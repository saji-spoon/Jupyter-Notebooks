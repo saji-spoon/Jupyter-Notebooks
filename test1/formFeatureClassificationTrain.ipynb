{
 "cells": [
  {
   "cell_type": "code",
   "execution_count": 1,
   "metadata": {},
   "outputs": [],
   "source": [
    "#ライブラリのロード\n",
    "import numpy as np\n",
    "import chainer\n",
    "from chainer import cuda, Function, gradient_check, report, training, utils, Variable\n",
    "from chainer import datasets, iterators, optimizers, serializers\n",
    "from chainer import Link, Chain, ChainList\n",
    "import chainer.functions as F\n",
    "import chainer.links as L\n",
    "from chainer.training import extensions\n",
    "from chainer.dataset import concat_examples\n",
    "from jupyterthemes import jtplot\n",
    "jtplot.style()\n",
    "from matplotlib.colors import LinearSegmentedColormap\n",
    "from matplotlib import pyplot as plt\n",
    "%matplotlib inline\n",
    "from IPython.core.interactiveshell import InteractiveShell\n",
    "InteractiveShell.ast_node_interactivity = \"all\"\n",
    "from mylib.PlotUtil import PlotLossAndAccuracy, PlotTupleDataSet, generate_cmap\n",
    "\n",
    "f = open(\"datatext.txt\",'r')\n",
    "\n",
    "rows = f.readlines()\n",
    "\n",
    "f.close()\n",
    "\n",
    "data_list = [row.split(\"\\t\")[2][1:-1].split(\",\") for row in rows]\n",
    "label_list = [row.split(\"\\t\")[3].strip() for row in rows]\n",
    "\n"
   ]
  },
  {
   "cell_type": "code",
   "execution_count": 4,
   "metadata": {},
   "outputs": [],
   "source": [
    "data = np.array(data_list, np.float64)\n",
    "label = np.array(label_list, np.int32)"
   ]
  },
  {
   "cell_type": "code",
   "execution_count": 7,
   "metadata": {},
   "outputs": [
    {
     "data": {
      "text/plain": [
       "array([[ 0.811765,  0.811765,  0.807843, ...,  0.      ,  0.      ,  0.      ],\n",
       "       [ 0.796078,  0.796078,  0.796078, ...,  0.      ,  0.      ,  0.      ],\n",
       "       [ 0.945098,  0.945098,  0.94902 , ...,  0.      ,  0.      ,  0.      ],\n",
       "       [ 0.819608,  0.823529,  0.827451, ...,  0.      ,  0.      ,  0.      ]])"
      ]
     },
     "execution_count": 7,
     "metadata": {},
     "output_type": "execute_result"
    }
   ],
   "source": [
    "#matplotlibで表示"
   ]
  }
 ],
 "metadata": {
  "kernelspec": {
   "display_name": "Python 3",
   "language": "python",
   "name": "python3"
  },
  "language_info": {
   "codemirror_mode": {
    "name": "ipython",
    "version": 3
   },
   "file_extension": ".py",
   "mimetype": "text/x-python",
   "name": "python",
   "nbconvert_exporter": "python",
   "pygments_lexer": "ipython3",
   "version": "3.6.1"
  }
 },
 "nbformat": 4,
 "nbformat_minor": 2
}

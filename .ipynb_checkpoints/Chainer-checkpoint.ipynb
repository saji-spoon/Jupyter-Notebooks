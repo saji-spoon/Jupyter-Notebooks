{
 "cells": [
  {
   "cell_type": "code",
   "execution_count": 12,
   "metadata": {
    "collapsed": false
   },
   "outputs": [
    {
     "data": {
      "text/plain": [
       "array([ 4.])"
      ]
     },
     "execution_count": 12,
     "metadata": {},
     "output_type": "execute_result"
    }
   ],
   "source": [
    "import numpy as np\n",
    "import chainer\n",
    "from chainer import cuda, Function, gradient_check, report, training, utils, Variable\n",
    "from chainer import datasets, iterators, optimizers, serializers\n",
    "from chainer import Link, Chain, ChainList\n",
    "import chainer.functions as F\n",
    "import chainer.links as L\n",
    "from chainer.training import extensions\n",
    "%matplotlib inline\n",
    "from IPython.core.interactiveshell import InteractiveShell\n",
    "InteractiveShell.ast_node_interactivity = \"all\"\n",
    "\n",
    "data = np.array([4],dtype=float)\n",
    "x = Variable(data)\n",
    "x.data"
   ]
  },
  {
   "cell_type": "markdown",
   "metadata": {},
   "source": [
    "forward計算する前にｍ入力データをVariableオブジェクトへ入れる"
   ]
  },
  {
   "cell_type": "code",
   "execution_count": 14,
   "metadata": {
    "collapsed": false
   },
   "outputs": [
    {
     "data": {
      "text/plain": [
       "array([ 33.])"
      ]
     },
     "execution_count": 14,
     "metadata": {},
     "output_type": "execute_result"
    }
   ],
   "source": [
    "y = x**2 + 4 * x + 1\n",
    "y.data"
   ]
  },
  {
   "cell_type": "markdown",
   "metadata": {},
   "source": [
    "Variableオブジェクトには基本的な計算ができる\n",
    "さらに、Variableオブジェクトは計算結果だけでなく、計算の過程(計算グラフ)も記録されている"
   ]
  },
  {
   "cell_type": "code",
   "execution_count": 15,
   "metadata": {
    "collapsed": false
   },
   "outputs": [
    {
     "data": {
      "text/plain": [
       "array([ 12.])"
      ]
     },
     "execution_count": 15,
     "metadata": {},
     "output_type": "execute_result"
    }
   ],
   "source": [
    "y.backward()\n",
    "x.grad"
   ]
  },
  {
   "cell_type": "markdown",
   "metadata": {},
   "source": [
    "backward関数で誤差逆伝播により（対象の変数に対する前変数での）勾配を計算することができる\n",
    "\n",
    "中間変数の勾配も計算することができる"
   ]
  },
  {
   "cell_type": "code",
   "execution_count": 17,
   "metadata": {
    "collapsed": false
   },
   "outputs": [
    {
     "data": {
      "text/plain": [
       "array([-1.])"
      ]
     },
     "execution_count": 17,
     "metadata": {},
     "output_type": "execute_result"
    }
   ],
   "source": [
    "z = 2*x\n",
    "y = x**2 - z + 1\n",
    "y.backward(retain_grad=True)\n",
    "z.grad"
   ]
  },
  {
   "cell_type": "markdown",
   "metadata": {},
   "source": [
    "中間変数の勾配はデフォルトで省略されるので引数でretain_gradをTrueにする\n",
    "\n",
    "指定がない場合Noneになる\n",
    "\n",
    "変数がベクトル・行列の場合もこの逆伝播計算は可能だが\n",
    "\n",
    "最終的な出力ベクトルのエラー値を手動で設定する必要がある=1\n",
    "\n",
    "（要素数が1の場合はLoss値とみなされ、自動的に1に設定される）"
   ]
  },
  {
   "cell_type": "code",
   "execution_count": 35,
   "metadata": {
    "collapsed": false
   },
   "outputs": [
    {
     "data": {
      "text/plain": [
       "array([[ 1.,  2.,  3.],\n",
       "       [ 4.,  5.,  6.]], dtype=float32)"
      ]
     },
     "execution_count": 35,
     "metadata": {},
     "output_type": "execute_result"
    },
    {
     "data": {
      "text/plain": [
       "'(x-1)^2'"
      ]
     },
     "execution_count": 35,
     "metadata": {},
     "output_type": "execute_result"
    },
    {
     "data": {
      "text/plain": [
       "array([[  0.,   1.,   4.],\n",
       "       [  9.,  16.,  25.]], dtype=float32)"
      ]
     },
     "execution_count": 35,
     "metadata": {},
     "output_type": "execute_result"
    },
    {
     "data": {
      "text/plain": [
       "'2x-2'"
      ]
     },
     "execution_count": 35,
     "metadata": {},
     "output_type": "execute_result"
    },
    {
     "data": {
      "text/plain": [
       "array([[  0.,   2.,   4.],\n",
       "       [  6.,   8.,  10.]], dtype=float32)"
      ]
     },
     "execution_count": 35,
     "metadata": {},
     "output_type": "execute_result"
    }
   ],
   "source": [
    "x = Variable(np.array([\n",
    "            [1,2,3],\n",
    "            [4,5,6]\n",
    "        ], np.float32))\n",
    "x.data\n",
    "y = x**2 - 2*x + 1\n",
    "'(x-1)^2'\n",
    "y.data\n",
    "\n",
    "#出力yの勾配を1埋めする\n",
    "y.grad = np.ones((2,3), dtype=np.float32)\n",
    "y.backward()\n",
    "'2x-2'\n",
    "x.grad"
   ]
  },
  {
   "cell_type": "markdown",
   "metadata": {},
   "source": [
    "### Links\n",
    "\n",
    "Linksは重みを保持する\n",
    "\n",
    "学習可能な重みを持った関数などを表現できる\n",
    "\n",
    "以下ではパラメータ付きの関数、というシンプルな関数としてLinkを扱う"
   ]
  },
  {
   "cell_type": "code",
   "execution_count": 25,
   "metadata": {
    "collapsed": true
   },
   "outputs": [],
   "source": [
    "f = L.Linear(3,2)"
   ]
  },
  {
   "cell_type": "markdown",
   "metadata": {},
   "source": [
    "ここではLinear Linkを作る\n",
    "\n",
    "Linear Linkはシンプルな重みと入力の線形結合を表すLink\n",
    "\n",
    "ここでは、入力3ノード、出力2ノードの場合のLinear Linkを作った\n",
    "\n",
    "なお、このLinear Linkへの入力はミニバッチNサンプルとして(N,3)の形のデータならば入力可能"
   ]
  },
  {
   "cell_type": "code",
   "execution_count": 28,
   "metadata": {
    "collapsed": false
   },
   "outputs": [
    {
     "data": {
      "text/plain": [
       "array([[ 0.88392043, -1.31222689,  0.15411764],\n",
       "       [-0.04873499,  1.15405774,  0.53090137]], dtype=float32)"
      ]
     },
     "execution_count": 28,
     "metadata": {},
     "output_type": "execute_result"
    },
    {
     "data": {
      "text/plain": [
       "array([ 0.,  0.], dtype=float32)"
      ]
     },
     "execution_count": 28,
     "metadata": {},
     "output_type": "execute_result"
    }
   ],
   "source": [
    "f.W.data\n",
    "f.b.data"
   ]
  },
  {
   "cell_type": "markdown",
   "metadata": {},
   "source": [
    "Linkのパラメータはattributeに保存される\n",
    "\n",
    "また、パラメータはVariableのインスタンスである\n",
    "\n",
    "\n",
    "Linear LinkのパラメータはW, bで、Wはランダムに　bは0で初期化される"
   ]
  },
  {
   "cell_type": "code",
   "execution_count": 30,
   "metadata": {
    "collapsed": false
   },
   "outputs": [
    {
     "data": {
      "text/plain": [
       "array([[ 1.,  2.,  3.],\n",
       "       [ 4.,  5.,  6.]], dtype=float32)"
      ]
     },
     "execution_count": 30,
     "metadata": {},
     "output_type": "execute_result"
    },
    {
     "data": {
      "text/plain": [
       "array([[-1.27818036,  3.85208464],\n",
       "       [-2.10074663,  8.76075649]], dtype=float32)"
      ]
     },
     "execution_count": 30,
     "metadata": {},
     "output_type": "execute_result"
    }
   ],
   "source": [
    "x.data\n",
    "y = f(x)\n",
    "y.data"
   ]
  },
  {
   "cell_type": "markdown",
   "metadata": {},
   "source": [
    "Linkは普通の関数のように使える"
   ]
  },
  {
   "cell_type": "code",
   "execution_count": 58,
   "metadata": {
    "collapsed": false
   },
   "outputs": [],
   "source": [
    "f.cleargrads()"
   ]
  },
  {
   "cell_type": "markdown",
   "metadata": {},
   "source": [
    "backward()関数を実行するたびに各Variableの勾配は加算されていくため、\n",
    "cleargradで初期化する"
   ]
  },
  {
   "cell_type": "code",
   "execution_count": 72,
   "metadata": {
    "collapsed": false
   },
   "outputs": [
    {
     "data": {
      "text/plain": [
       "array([[ 0.88392043, -1.31222689,  0.15411764],\n",
       "       [-0.04873499,  1.15405774,  0.53090137]], dtype=float32)"
      ]
     },
     "execution_count": 72,
     "metadata": {},
     "output_type": "execute_result"
    },
    {
     "data": {
      "text/plain": [
       "array([ 0.,  0.], dtype=float32)"
      ]
     },
     "execution_count": 72,
     "metadata": {},
     "output_type": "execute_result"
    },
    {
     "data": {
      "text/plain": [
       "array([[-1.27818036,  3.85208464],\n",
       "       [-2.10074663,  8.76075649]], dtype=float32)"
      ]
     },
     "execution_count": 72,
     "metadata": {},
     "output_type": "execute_result"
    },
    {
     "data": {
      "text/plain": [
       "array([[ 5.,  7.,  9.],\n",
       "       [ 5.,  7.,  9.]], dtype=float32)"
      ]
     },
     "execution_count": 72,
     "metadata": {},
     "output_type": "execute_result"
    },
    {
     "data": {
      "text/plain": [
       "array([ 2.,  2.], dtype=float32)"
      ]
     },
     "execution_count": 72,
     "metadata": {},
     "output_type": "execute_result"
    }
   ],
   "source": [
    "f.cleargrads()\n",
    "x = Variable(np.array([[1,2,3],\n",
    "                       [4,5,6]],dtype=np.float32))\n",
    "f.W.data\n",
    "f.b.data\n",
    "\n",
    "y = f(x)\n",
    "y.data\n",
    "\n",
    "y.grad = np.ones((2,2), dtype=np.float32)\n",
    "\n",
    "y.backward()\n",
    "\n",
    "f.W.grad\n",
    "f.b.grad\n"
   ]
  }
 ],
 "metadata": {
  "anaconda-cloud": {},
  "kernelspec": {
   "display_name": "Python [conda env:for_chainer]",
   "language": "python",
   "name": "conda-env-for_chainer-py"
  },
  "language_info": {
   "codemirror_mode": {
    "name": "ipython",
    "version": 3
   },
   "file_extension": ".py",
   "mimetype": "text/x-python",
   "name": "python",
   "nbconvert_exporter": "python",
   "pygments_lexer": "ipython3",
   "version": "3.6.2"
  }
 },
 "nbformat": 4,
 "nbformat_minor": 1
}

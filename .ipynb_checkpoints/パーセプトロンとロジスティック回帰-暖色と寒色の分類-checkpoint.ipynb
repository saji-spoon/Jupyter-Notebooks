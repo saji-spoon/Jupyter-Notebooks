{
 "cells": [
  {
   "cell_type": "markdown",
   "metadata": {},
   "source": [
    "### パーセプトロン\n",
    "http://tkengo.github.io/blog/2016/06/03/yaruo-machine-learning4/"
   ]
  },
  {
   "cell_type": "markdown",
   "metadata": {},
   "source": [
    "#### 寒色・暖色データの用意"
   ]
  },
  {
   "cell_type": "code",
   "execution_count": 77,
   "metadata": {
    "collapsed": false
   },
   "outputs": [],
   "source": [
    "import numpy as np\n",
    "from matplotlib import pyplot as plt\n",
    "from jupyterthemes import jtplot\n",
    "from PIL import Image\n",
    "jtplot.style()\n",
    "%matplotlib inline\n",
    "from IPython.core.interactiveshell import InteractiveShell\n",
    "InteractiveShell.ast_node_interactivity = \"all\""
   ]
  },
  {
   "cell_type": "code",
   "execution_count": 78,
   "metadata": {
    "collapsed": false
   },
   "outputs": [
    {
     "data": {
      "image/png": "[encoded data removed]",
      "text/plain": [
       "<matplotlib.figure.Figure at 0x800e315978>"
      ]
     },
     "metadata": {},
     "output_type": "display_data"
    }
   ],
   "source": [
    "#サンプル 入力はカラーコードで\n",
    "sampleCCs = ['#d80055',\n",
    "            '#9c0019',\n",
    "            '#2c00c8',\n",
    "            '#120078',\n",
    "            '#40009f']\n",
    "#暖色=0, 寒色=1のラベル\n",
    "sampleLabels = [1,1,-1,-1,-1]\n",
    "#カラーコードをRGBに変換\n",
    "sampleColors = [(int(c[1:3],16),int(c[3:5],16),int(c[5:7],16)) for c in sampleCCs]\n",
    "\n",
    "\n",
    "#サンプル色を正方形で描画\n",
    "size1 = 10\n",
    "\n",
    "canvas = Image.new('RGB', (size1 * len(sampleCCs),size1), (0,0,0))\n",
    "\n",
    "for i,col in enumerate(sampleColors):\n",
    "    img = Image.new('RGB', (size1,size1), col)\n",
    "    canvas.paste(img, (size1*i, 0))\n",
    "\n",
    "plt.imshow(np.asarray(canvas));\n"
   ]
  },
  {
   "cell_type": "code",
   "execution_count": 79,
   "metadata": {
    "collapsed": false
   },
   "outputs": [
    {
     "data": {
      "text/plain": [
       "[216, 156, 44, 18, 64]"
      ]
     },
     "execution_count": 79,
     "metadata": {},
     "output_type": "execute_result"
    },
    {
     "data": {
      "text/plain": [
       "[85, 25, 200, 120, 159]"
      ]
     },
     "execution_count": 79,
     "metadata": {},
     "output_type": "execute_result"
    },
    {
     "data": {
      "text/plain": [
       "[1, 1, -1, -1, -1]"
      ]
     },
     "execution_count": 79,
     "metadata": {},
     "output_type": "execute_result"
    },
    {
     "data": {
      "text/plain": [
       "<matplotlib.collections.PathCollection at 0x80100937b8>"
      ]
     },
     "execution_count": 79,
     "metadata": {},
     "output_type": "execute_result"
    },
    {
     "data": {
      "image/png": "[encoded data removed]",
      "text/plain": [
       "<matplotlib.figure.Figure at 0x800fe719b0>"
      ]
     },
     "metadata": {},
     "output_type": "display_data"
    }
   ],
   "source": [
    "#G=0なのでRとBだけ取り出して2次元へマッピング\n",
    "sampleRs = [col[0] for col in sampleColors]\n",
    "sampleBs = [col[2] for col in sampleColors]\n",
    "sampleRs\n",
    "sampleBs\n",
    "sampleLabels\n",
    "\n",
    "plt.scatter(sampleRs, sampleBs, c=sampleLabels)"
   ]
  },
  {
   "cell_type": "markdown",
   "metadata": {},
   "source": [
    "#### パーセプトロンを用いて分類\n",
    "\n",
    "パーセプトロン…入力とその入力に対する重みの線形結合が閾値を超えていた場合に活性化するモデル\n",
    "\n",
    "今回は単相パーセプトロンとして、上記のサンプルを分類するような直線を引くことを考える。"
   ]
  },
  {
   "cell_type": "code",
   "execution_count": 80,
   "metadata": {
    "collapsed": false
   },
   "outputs": [
    {
     "data": {
      "text/plain": [
       "<matplotlib.collections.PathCollection at 0x8010038550>"
      ]
     },
     "execution_count": 80,
     "metadata": {},
     "output_type": "execute_result"
    },
    {
     "data": {
      "text/plain": [
       "[<matplotlib.lines.Line2D at 0x8010038780>]"
      ]
     },
     "execution_count": 80,
     "metadata": {},
     "output_type": "execute_result"
    },
    {
     "data": {
      "image/png": "[encoded data removed]",
      "text/plain": [
       "<matplotlib.figure.Figure at 0x800fe70ba8>"
      ]
     },
     "metadata": {},
     "output_type": "display_data"
    }
   ],
   "source": [
    "plt.scatter(sampleRs, sampleBs, c=sampleLabels)\n",
    "plt.plot(np.arange(0,255), np.arange(0,255)*1/2)"
   ]
  },
  {
   "cell_type": "markdown",
   "metadata": {},
   "source": [
    "#### 識別関数と更新式\n",
    "\n",
    "識別関数を\n",
    "\n",
    "$\n",
    "f_w(\\boldsymbol{x}) = \\left\\{\n",
    "\\begin{array}{ll}\n",
    "1 & (\\boldsymbol{w \\bullet x} \\geq 0) \\\\\n",
    "-1 & (\\boldsymbol{w \\bullet x} \\lt 0)\n",
    "\\end{array}\n",
    "\\right.\n",
    "$\n",
    "\n",
    "と定義する。\n",
    "\n",
    "これは$\\boldsymbol{w・x=0}$なる関数において、片側で-1, もう片側で1を返す関数である。\n",
    "\n",
    "この識別関数を用いて、wを以下のように更新する。\n",
    "\n",
    "f(xi) != yiのとき（つまり分類が間違っている時）\n",
    "\n",
    "$\n",
    "\\boldsymbol{w+y^{(i)}x^{(i)}} \n",
    "$\n",
    "\n",
    "f(xi) == yiのとき（つまり分類が合っている時）\n",
    "\n",
    "$\n",
    "\\boldsymbol{w} \n",
    "$\n",
    "\n",
    "へ更新\n",
    "\n",
    "分類が間違っている時更新する。\n",
    "\n",
    "パーセプトロンの実装は行った事があるため割愛"
   ]
  },
  {
   "cell_type": "markdown",
   "metadata": {},
   "source": [
    "### ロジスティック回帰による線形分離\n",
    "\n",
    "#### 回帰とロジスティック回帰\n",
    "\n",
    "#####  ○回帰（2次元ベクトルxに対して）\n",
    "<img src=\"img/2d-Regression.jpg\" width=400px>\n",
    "予測関数fθ(x)が、教師データにフィッティングするように重みθを更新する\n",
    "\n",
    "予測関数の形は教師データに対して検討する必要がある\n",
    "\n",
    "\n",
    "##### ○ ロジスティック回帰\n",
    "<img src=\"img/2d-logistic-Regression.jpg\" width=400px>\n",
    "(上記図中のfθ(x)はσ(f), f(x)がf(x,θ))\n",
    "\n",
    "教師データをうまく分類するようなf(x,θ)を考える\n",
    "\n",
    "これをシグモイド関数に入れたσ(f)は出力が0～1で、f(x,θ)=0でσ(f)=0.5となる確率として出力される\n",
    "\n",
    "全ての教師データが正しいクラスに分類されるθが得られる、すなわちσ(f)で得られる確率について、正しいクラスに分類される同時確率が最大になるようにθを決める\n",
    "\n",
    "　\n",
    "\n",
    "　\n",
    "#### ○ロジスティック回帰適用\n",
    "シグモイド関数は以下のように定義される\n",
    "\n",
    "$\n",
    "f_θ (\\boldsymbol{x}) = 1/(1+exp(-\\boldsymbol{θ^Tx}))\n",
    "$\n",
    "\n",
    "これは$P(y=1|\\boldsymbol{x})$、すなわちxが暖色である確率である\n",
    "\n",
    "ここで、$\\boldsymbol{θ^Tx}$は回帰の時のように定数項x0=0, θ0を含むとする\n",
    "\n",
    "この$f_θ$を確率と見た時、各教師データ$\\boldsymbol{x_i}$について、正しいクラスに分類されている確率は$(f_θ(\\boldsymbol{x_i}))^{y_i}(1-f_θ(\\boldsymbol{x_i}))^{1-y_i}$\n",
    "\n",
    "同時確率は\n",
    "\n",
    "$F=\\prod(f_θ(\\boldsymbol{x_i}))^{y_i}(1-f_θ(\\boldsymbol{x_i}))^{1-y_i}$\n",
    "\n",
    "となる。\n",
    "\n",
    "この同時確率をθを動かして最大化する。この時、これは尤度関数となっているが、此のままでは扱いにくいため対数尤度関数とする。\n",
    "\n",
    "最終的に対数尤度関数の微分は\n",
    "\n",
    "$\\frac{\\partial \\log F}{\\partial θ_j}=\\sum^n_i \\{y^{(i)}-f_θ(\\boldsymbol{x^{(i)}})\\}x^{(i)}_j$ \n",
    "\n",
    "となる。\n",
    "最大化しなければいけないので符号を反転し、\n",
    "\n",
    "$G_j = \\frac{\\partial -\\log F}{\\partial θ_j}=\\sum^n_i \\{f_θ(\\boldsymbol{x^{(i)}})-y^{(i)}\\}x^{(i)}_j$ \n",
    "\n",
    "最急降下法で\n",
    "\n",
    "$θ_j := θ_j-ηG_j$\n",
    "\n",
    "と更新する"
   ]
  },
  {
   "cell_type": "markdown",
   "metadata": {},
   "source": [
    "#### データ準備\n",
    "ロジスティック回帰用に重み（fθを決定するパラメータ）を初期化、ラベルを変更, 教師データを正規化\n",
    "\n",
    "以降データとなる[1,R,B]値は正規化されたものになる"
   ]
  },
  {
   "cell_type": "code",
   "execution_count": 81,
   "metadata": {
    "collapsed": false
   },
   "outputs": [
    {
     "data": {
      "text/plain": [
       "array([[ 0.00392157,  0.84705882,  0.33333333],\n",
       "       [ 0.00392157,  0.61176471,  0.09803922],\n",
       "       [ 0.00392157,  0.17254902,  0.78431373],\n",
       "       [ 0.00392157,  0.07058824,  0.47058824],\n",
       "       [ 0.00392157,  0.25098039,  0.62352941]])"
      ]
     },
     "execution_count": 81,
     "metadata": {},
     "output_type": "execute_result"
    }
   ],
   "source": [
    "#ラベルを寒色=0に変更\n",
    "sampleLabels = [1,1,0,0,0]\n",
    "#th0～th2を適当に初期化\n",
    "th = np.array([0.1,0.5,-0.7])\n",
    "\n",
    "#教師データに定数項x0=1を追加し、n行3列のデータになるよう並べ直し、さらに正規化\n",
    "samp = []\n",
    "ones = [1.0 for x in sampleRs]\n",
    "samp.append(ones)\n",
    "samp.append(sampleRs)\n",
    "samp.append(sampleBs)\n",
    "sampleAddConstT = np.array(samp)\n",
    "sampleAddConst = sampleAddConstT.T/255.0\n",
    "del sampleRs\n",
    "del sampleBs\n",
    "sampleAddConst"
   ]
  },
  {
   "cell_type": "markdown",
   "metadata": {},
   "source": [
    "#### シグモイド関数の確認\n",
    "シグモイド関数をpython関数として用意、ついでにpyplotで表示してみる"
   ]
  },
  {
   "cell_type": "code",
   "execution_count": 82,
   "metadata": {
    "collapsed": false
   },
   "outputs": [
    {
     "data": {
      "text/plain": [
       "<matplotlib.collections.PathCollection at 0x800fc122b0>"
      ]
     },
     "execution_count": 82,
     "metadata": {},
     "output_type": "execute_result"
    },
    {
     "data": {
      "image/png": "[encoded data removed]",
      "text/plain": [
       "<matplotlib.figure.Figure at 0x8010032f60>"
      ]
     },
     "metadata": {},
     "output_type": "display_data"
    }
   ],
   "source": [
    "#通常の1引数シグモイド関数\n",
    "def sigmoid(x):\n",
    "    return 1.0/(1.0+np.exp(-1.0*x))\n",
    "\n",
    "#今回の識別関数用にσ(θx)を計算する関数\n",
    "def sigmoidP(thArr,xArr):\n",
    "    return sigmoid(np.dot(thArr,xArr))\n",
    "    #print (np.exp(-1.0*np.dot(thArr,xArr)))\n",
    "\n",
    "#サンプル点の用意\n",
    "graphX = np.arange(-6,6,0.1)\n",
    "plt.scatter(graphX, sigmoid(graphX))\n"
   ]
  },
  {
   "cell_type": "markdown",
   "metadata": {},
   "source": [
    "#### 識別関数をシグモイド関数に入れた時の値の可視化\n",
    "ランダムなR(G)Bデータを作成し、それに対してシグモイド関数を適用してみる\n",
    "\n",
    "θが適当なのでまったく正しくはないが、現時点のθにおけるクラス分類確率がヒートマップで出る\n",
    "\n",
    "たとえば以下でRGB=(150,0,30)の辺りは黄色になっているためシグモイド関数の値は0.8程度と見ることができる\n",
    "\n",
    "追加で教師データもプロットする"
   ]
  },
  {
   "cell_type": "code",
   "execution_count": 83,
   "metadata": {
    "collapsed": false
   },
   "outputs": [
    {
     "name": "stdout",
     "output_type": "stream",
     "text": [
      "シグモイド関数の値の可視化と教師データのグラフ\n"
     ]
    },
    {
     "data": {
      "image/png": "[encoded data removed]",
      "text/plain": [
       "<matplotlib.figure.Figure at 0x800fb650b8>"
      ]
     },
     "metadata": {},
     "output_type": "display_data"
    }
   ],
   "source": [
    "import matplotlib.cm as cm\n",
    "\n",
    "#可視化のためのランダム点作成\n",
    "randOnes = np.ones(shape=(100,1))\n",
    "randSampleR = np.random.choice(np.arange(0.0,1.0,0.01),size=(100,1))\n",
    "randSampleB = np.random.choice(np.arange(0.0,1.0,0.01),size=(100,1))\n",
    "randVec = np.empty(shape=(100,3))\n",
    "randVec[:,0] = randOnes[:,0]\n",
    "randVec[:,1] = randSampleR[:,0]\n",
    "randVec[:,2] = randSampleB[:,0]\n",
    "\n",
    "#ランダム点に対してシグモイド関数を適用した値をプロットし、識別関数の様子を見る\n",
    "def showSigmoidP(randSample, thArr, axis1=1, axis2=2):\n",
    "    for s in randSample:\n",
    "        ret = plt.scatter(s[axis1],s[axis2],c=cm.hot(sigmoidP(thArr,s)))\n",
    "\n",
    "showSigmoidP(randVec,th)\n",
    "\n",
    "#教師データも別色でプロット\n",
    "colLabel = [0.3+l/2.0 for l in sampleLabels]\n",
    "ret = plt.scatter(sampleAddConst[:,1], sampleAddConst[:,2], c=cm.hsv(colLabel))\n",
    "\n",
    "print(\"シグモイド関数の値の可視化と教師データのグラフ\")"
   ]
  },
  {
   "cell_type": "markdown",
   "metadata": {},
   "source": [
    "\n",
    "なお、各教師データにおける、暖色に分類される確率は以下のようになっている"
   ]
  },
  {
   "cell_type": "code",
   "execution_count": 84,
   "metadata": {
    "collapsed": false
   },
   "outputs": [
    {
     "data": {
      "text/plain": [
       "0.54750335364142688"
      ]
     },
     "execution_count": 84,
     "metadata": {},
     "output_type": "execute_result"
    },
    {
     "data": {
      "text/plain": [
       "0.55913372268857542"
      ]
     },
     "execution_count": 84,
     "metadata": {},
     "output_type": "execute_result"
    },
    {
     "data": {
      "text/plain": [
       "0.38642778945884126"
      ]
     },
     "execution_count": 84,
     "metadata": {},
     "output_type": "execute_result"
    },
    {
     "data": {
      "text/plain": [
       "0.42709205100885012"
      ]
     },
     "execution_count": 84,
     "metadata": {},
     "output_type": "execute_result"
    },
    {
     "data": {
      "text/plain": [
       "0.42297116380279109"
      ]
     },
     "execution_count": 84,
     "metadata": {},
     "output_type": "execute_result"
    }
   ],
   "source": [
    "for sam in sampleAddConst:\n",
    "    sigmoidP(sam, th)"
   ]
  },
  {
   "cell_type": "markdown",
   "metadata": {},
   "source": [
    "0.5前後と、まだ曖昧である。\n",
    "ここからθを更新して教師データに対して正しく分類できるようにする"
   ]
  },
  {
   "cell_type": "markdown",
   "metadata": {},
   "source": [
    "#### θの更新"
   ]
  },
  {
   "cell_type": "code",
   "execution_count": 87,
   "metadata": {
    "collapsed": false
   },
   "outputs": [
    {
     "data": {
      "text/plain": [
       "0.9999426383406147"
      ]
     },
     "execution_count": 87,
     "metadata": {},
     "output_type": "execute_result"
    },
    {
     "data": {
      "text/plain": [
       "0.9999869079021072"
      ]
     },
     "execution_count": 87,
     "metadata": {},
     "output_type": "execute_result"
    },
    {
     "data": {
      "text/plain": [
       "5.347266607044924e-09"
      ]
     },
     "execution_count": 87,
     "metadata": {},
     "output_type": "execute_result"
    },
    {
     "data": {
      "text/plain": [
       "5.0892381795311159e-06"
      ]
     },
     "execution_count": 87,
     "metadata": {},
     "output_type": "execute_result"
    },
    {
     "data": {
      "text/plain": [
       "3.67111798721689e-06"
      ]
     },
     "execution_count": 87,
     "metadata": {},
     "output_type": "execute_result"
    },
    {
     "data": {
      "image/png": "[encoded data removed]",
      "text/plain": [
       "<matplotlib.figure.Figure at 0x800e989438>"
      ]
     },
     "metadata": {},
     "output_type": "display_data"
    }
   ],
   "source": [
    "#学習を行い、重みthetaを更新して返す\n",
    "#sample 行に1データ、列に素性が並んだ2次元ndArray\n",
    "#theta 初期の重み\n",
    "#trainRoop 学習回数\n",
    "#eta 学習収束係数\n",
    "def train(sample, labels, thetas, trainRoop, eta=50, logFlg=True):    \n",
    "    for n in range(trainRoop):\n",
    "        G = [0,0,0];\n",
    "        for j in range(sample.shape[1]):    \n",
    "            for i,samp in enumerate(sample):\n",
    "                G[j] = G[j] + (sigmoidP(thetas, samp)-labels[i])*samp[j]\n",
    "        if logFlg:\n",
    "            print(\"G=\",G)\n",
    "            print(\"thOld=\",thetas)\n",
    "        thetas = thetas - eta * np.array(G)\n",
    "        if logFlg:\n",
    "            print(\"thNew=\",thetas)\n",
    "    return thetas\n",
    "\n",
    "#for n in range(30):\n",
    "#    G = [0,0,0];\n",
    "#    for j in range(sampleAddConst.shape[1]):    \n",
    "#        for i,samp in enumerate(sampleAddConst):\n",
    "#            G[j] = G[j] + (sigmoidP(th, samp)-sampleLabels[i])*samp[j]\n",
    "#    print(\"G=\",G)\n",
    "#    print(\"thOld=\",th)\n",
    "#    th = th - 50 * np.array(G)\n",
    "#    print(\"thNew=\",th)\n",
    "\n",
    "th = train(sampleAddConst, sampleLabels, th, 10, logFlg=True)\n",
    "\n",
    "showSigmoidP(randVec, th)\n",
    "\n",
    "for sam in sampleAddConst:\n",
    "    sigmoidP(sam, th)\n",
    "\n",
    "colLabel = [0.3+l/2.0 for l in sampleLabels]\n",
    "ret = plt.scatter(sampleAddConst[:,1], sampleAddConst[:,2], c=cm.hsv(colLabel))\n"
   ]
  },
  {
   "cell_type": "code",
   "execution_count": null,
   "metadata": {
    "collapsed": true
   },
   "outputs": [],
   "source": []
  },
  {
   "cell_type": "markdown",
   "metadata": {},
   "source": [
    "識別関数が教師データを分類するように変形しているのが分かる"
   ]
  }
 ],
 "metadata": {
  "anaconda-cloud": {},
  "kernelspec": {
   "display_name": "Python [conda root]",
   "language": "python",
   "name": "conda-root-py"
  },
  "language_info": {
   "codemirror_mode": {
    "name": "ipython",
    "version": 3
   },
   "file_extension": ".py",
   "mimetype": "text/x-python",
   "name": "python",
   "nbconvert_exporter": "python",
   "pygments_lexer": "ipython3",
   "version": "3.5.2"
  }
 },
 "nbformat": 4,
 "nbformat_minor": 1
}

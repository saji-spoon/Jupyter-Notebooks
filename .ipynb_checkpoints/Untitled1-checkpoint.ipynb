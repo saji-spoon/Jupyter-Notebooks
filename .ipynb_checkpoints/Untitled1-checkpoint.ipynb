{
 "cells": [
  {
   "cell_type": "code",
   "execution_count": 17,
   "metadata": {
    "collapsed": false
   },
   "outputs": [
    {
     "name": "stdout",
     "output_type": "stream",
     "text": [
      "all Pt: 5048\n",
      "all LP: 175\n",
      "Efficiency 28.845714285714287\n"
     ]
    }
   ],
   "source": [
    "LPunit = 25\n",
    "\n",
    "def GetAllLP(boost):\n",
    "    allLP = 0\n",
    "    for i in range(7):\n",
    "        allLP += LPunit * boost[i]\n",
    "    return allLP    \n",
    "\n",
    "def GetAllPt(boost):    \n",
    "    pts = [427,486,493,561,646,707,778]    \n",
    "    musicSumPt = 0\n",
    "    for i in range(7):\n",
    "        musicSumPt += pts[i] * boost[i]\n",
    "    allPt = 450 + 500 + musicSumPt    \n",
    "    return allPt\n",
    "    \n",
    "def printPtEff(boost):    \n",
    "    allPt = GetAllPt(boost)\n",
    "    allLP = GetAllLP(boost)\n",
    "    print(\"all Pt:\",allPt)\n",
    "    print(\"all LP:\",allLP)\n",
    "    ptEff = 1.0 * allPt / allLP\n",
    "    print(\"Efficiency\",ptEff)\n",
    "    \n",
    "boost = [1,1,1,1,1,1,1]\n",
    "\n",
    "printPtEff(boost)\n"
   ]
  }
 ],
 "metadata": {
  "anaconda-cloud": {},
  "kernelspec": {
   "display_name": "Python [conda root]",
   "language": "python",
   "name": "conda-root-py"
  },
  "language_info": {
   "codemirror_mode": {
    "name": "ipython",
    "version": 3
   },
   "file_extension": ".py",
   "mimetype": "text/x-python",
   "name": "python",
   "nbconvert_exporter": "python",
   "pygments_lexer": "ipython3",
   "version": "3.5.2"
  }
 },
 "nbformat": 4,
 "nbformat_minor": 1
}

{
 "cells": [
  {
   "cell_type": "code",
   "execution_count": 1,
   "metadata": {
    "collapsed": false
   },
   "outputs": [
    {
     "ename": "ModuleNotFoundError",
     "evalue": "No module named 'sklearn'",
     "output_type": "error",
     "traceback": [
      "\u001b[1;31m---------------------------------------------------------------------------\u001b[0m",
      "\u001b[1;31mModuleNotFoundError\u001b[0m                       Traceback (most recent call last)",
      "\u001b[1;32m<ipython-input-1-becf87256362>\u001b[0m in \u001b[0;36m<module>\u001b[1;34m()\u001b[0m\n\u001b[0;32m      2\u001b[0m \u001b[1;32mfrom\u001b[0m \u001b[0mmatplotlib\u001b[0m \u001b[1;32mimport\u001b[0m \u001b[0mpyplot\u001b[0m \u001b[1;32mas\u001b[0m \u001b[0mplt\u001b[0m\u001b[1;33m\u001b[0m\u001b[0m\n\u001b[0;32m      3\u001b[0m \u001b[1;32mimport\u001b[0m \u001b[0mmatplotlib\u001b[0m\u001b[1;33m.\u001b[0m\u001b[0mcm\u001b[0m \u001b[1;32mas\u001b[0m \u001b[0mcm\u001b[0m\u001b[1;33m\u001b[0m\u001b[0m\n\u001b[1;32m----> 4\u001b[1;33m \u001b[1;32mimport\u001b[0m \u001b[0msklearn\u001b[0m\u001b[1;33m\u001b[0m\u001b[0m\n\u001b[0m\u001b[0;32m      5\u001b[0m \u001b[1;32mfrom\u001b[0m \u001b[0msklearn\u001b[0m \u001b[1;32mimport\u001b[0m \u001b[0mdatasets\u001b[0m\u001b[1;33m\u001b[0m\u001b[0m\n\u001b[0;32m      6\u001b[0m \u001b[1;32mfrom\u001b[0m \u001b[0mjupyterthemes\u001b[0m \u001b[1;32mimport\u001b[0m \u001b[0mjtplot\u001b[0m\u001b[1;33m\u001b[0m\u001b[0m\n",
      "\u001b[1;31mModuleNotFoundError\u001b[0m: No module named 'sklearn'"
     ]
    }
   ],
   "source": [
    "import numpy as np\n",
    "from matplotlib import pyplot as plt\n",
    "import matplotlib.cm as cm\n",
    "import sklearn\n",
    "from sklearn import datasets\n",
    "from jupyterthemes import jtplot\n",
    "from PIL import Image\n",
    "jtplot.style()\n",
    "%matplotlib inline\n",
    "from IPython.core.interactiveshell import InteractiveShell\n",
    "InteractiveShell.ast_node_interactivity = \"all\"\n",
    "import chainer\n",
    "from chainer import cuda, Function, gradient_check, report, training, utils, Variable\n",
    "from chainer import datasets, iterators, optimizers, serializers\n",
    "from chainer import Link, Chain, ChainList\n",
    "import chainer.functions as F\n",
    "import chainer.links as L\n",
    "from chainer.training import extensions\n",
    "from chainer.dataset import concat_examples\n",
    "\n",
    "def plot_decision_boundary(pred_func):\n",
    "    # Set min and max values and give it some padding\n",
    "    x_min, x_max = X[:, 0].min() - .5, X[:, 0].max() + .5\n",
    "    y_min, y_max = X[:, 1].min() - .5, X[:, 1].max() + .5\n",
    "    h = 0.01\n",
    "    # Generate a grid of points with distance h between them\n",
    "    xx, yy = np.meshgrid(np.arange(x_min, x_max, h), np.arange(y_min, y_max, h))\n",
    "    # Predict the function value for the whole gid\n",
    "    Z = pred_func(np.c_[xx.ravel(), yy.ravel()])\n",
    "    Z = Z.reshape(xx.shape)\n",
    "    # Plot the contour and training examples\n",
    "    plt.contourf(xx, yy, Z, cmap=plt.cm.Spectral)\n",
    "    plt.scatter(X[:, 0], X[:, 1], c=y, cmap=plt.cm.Spectral)"
   ]
  },
  {
   "cell_type": "markdown",
   "metadata": {},
   "source": [
    "#### 用いるデータセット"
   ]
  },
  {
   "cell_type": "code",
   "execution_count": null,
   "metadata": {
    "collapsed": false
   },
   "outputs": [],
   "source": [
    "np.random.seed(0)\n",
    "X, y = sklearn.datasets.make_moons(200, noise=0.20)\n",
    "X[0:10,:]\n",
    "plt.scatter(X[:,0], X[:,1], s=40, c=y, cmap=plt.cm.Spectral)"
   ]
  },
  {
   "cell_type": "code",
   "execution_count": null,
   "metadata": {
    "collapsed": false
   },
   "outputs": [],
   "source": [
    "from chainer.datasets import tuple_dataset\n",
    "tuple_dataset"
   ]
  },
  {
   "cell_type": "markdown",
   "metadata": {},
   "source": [
    "線形分離不可能なデータセット\n",
    "\n",
    "非線形的に分離するため、今まで素性2と固定定数項x0,x1,x2でやっていたところに$x_3 = x_1^2$を加える"
   ]
  },
  {
   "cell_type": "markdown",
   "metadata": {},
   "source": [
    "#### 非線形に分離する識別関数の規定と各教師データでの値算出"
   ]
  },
  {
   "cell_type": "code",
   "execution_count": null,
   "metadata": {
    "collapsed": false
   },
   "outputs": [],
   "source": [
    "th = [0.1,0.2,0.4,2.0]\n",
    "#識別関数の定義（データセットの変形,theta初期化）\n",
    "def makefx(data):\n",
    "    f_x = np.empty(shape=(4,data.shape[0]))\n",
    "    #x0=0\n",
    "    ones = np.ones(shape=(1,data.shape[0]))\n",
    "    f_x[0,:] = ones\n",
    "    #x1,x2に教師データの2要素が入る\n",
    "    f_x[1:3,:] = data.T[0:2]\n",
    "    #x3=x1^2\n",
    "    f_x[3,:] = data.T[0,:]**2\n",
    "    return f_x.T\n",
    "sample = makefx(X)\n",
    "sample[0:10,:]"
   ]
  },
  {
   "cell_type": "markdown",
   "metadata": {},
   "source": [
    "各教師データに対して\n",
    "\n",
    "$\\boldsymbol{x}^{(prac)} = [ x_0=0,x_1,x_2,x_3=x_1^2 ]^T$\n",
    "\n",
    "が用意できたので、識別関数を形作るには\n",
    "\n",
    "$\\boldsymbol{θ^Tx}^{(prac)}$\n",
    "\n",
    "とすればよい。また、これをシグモイド関数へ適用して分類確率とする。"
   ]
  },
  {
   "cell_type": "markdown",
   "metadata": {},
   "source": [
    "### 初期状態でのシグモイド関数の可視化"
   ]
  },
  {
   "cell_type": "code",
   "execution_count": null,
   "metadata": {
    "collapsed": false
   },
   "outputs": [],
   "source": [
    "#通常の1引数シグモイド関数\n",
    "def sigmoid(x):\n",
    "    return 1.0/(1.0+np.exp(-1.0*x))\n",
    "\n",
    "#今回の識別関数用にσ(θx)を計算する関数\n",
    "def sigmoidP(thArr,xArr):\n",
    "    return sigmoid(np.dot(thArr,xArr))\n",
    "\n",
    "def showSigmoidP(randSample, thArr, axis1=1, axis2=2):\n",
    "    for s in randSample:\n",
    "        ret = plt.scatter(s[axis1],s[axis2],c=cm.hot(sigmoidP(thArr,s)))\n",
    "\n",
    "\n",
    "#ランダムサンプルで現在の識別関数の様子を見る\n",
    "#randsample = makefx(np.random.choice(np.arange(-1.5,2.5,0.01), size=X.shape))\n",
    "#showSigmoidP(randsample, th)\n",
    "#plt.scatter(X[:,0], X[:,1], s=40, c=y, cmap=plt.cm.Spectral)\n",
    "\n",
    "plot_decision_boundary(lambda x:sigmoidP(makefx(x),th))"
   ]
  },
  {
   "cell_type": "markdown",
   "metadata": {},
   "source": [
    "初期状態のため教師データを分離するようにはなっていないが、非線形的に分離可能な形状であることがわかる "
   ]
  },
  {
   "cell_type": "code",
   "execution_count": null,
   "metadata": {
    "collapsed": false
   },
   "outputs": [],
   "source": [
    "def train(sample, labels, thetas, trainRoop, eta=50, logFlg=True):    \n",
    "    for n in range(trainRoop):\n",
    "        G = np.zeros(sample.shape[1])\n",
    "        for j in range(sample.shape[1]):    \n",
    "            for i,samp in enumerate(sample):\n",
    "                G[j] = G[j] + (sigmoidP(thetas, samp)-labels[i])*samp[j]\n",
    "        if logFlg:\n",
    "            print(\"G=\",G)\n",
    "            print(\"thOld=\",thetas)\n",
    "        thetas = thetas - eta * np.array(G)\n",
    "        if logFlg:\n",
    "            print(\"thNew=\",thetas)\n",
    "    return thetas\n",
    "\n",
    "th = train(sample, y, th, 50, eta=0.01, logFlg=False)\n",
    "\n",
    "#showSigmoidP(randsample, th)\n",
    "\n",
    "plot_decision_boundary(lambda x:sigmoidP(makefx(x),th))\n",
    "plt.scatter(X[:,0], X[:,1], s=40, c=y, cmap=plt.cm.Spectral)"
   ]
  },
  {
   "cell_type": "markdown",
   "metadata": {},
   "source": [
    "非線形的な分離ができると言っても二次関数的な形状のため、このmake_moon形状はうまく分離できていない"
   ]
  },
  {
   "cell_type": "markdown",
   "metadata": {},
   "source": [
    "### 3次関数的な非線形分離\n",
    "重み$\\boldsymbol{θ}$と識別関数の素性を変えれば様々な非線形分離が可能\n",
    "\n",
    "以下では$\\boldsymbol{x}^{(prac)}=[x_0=0, x_1, x_2, x_3=x_1^2, x_4=x_1^3]$とする。"
   ]
  },
  {
   "cell_type": "code",
   "execution_count": null,
   "metadata": {
    "collapsed": false
   },
   "outputs": [],
   "source": [
    "#識別関数の定義（データセットの変形,theta初期化）\n",
    "th_tri = [0.1,0.2,0.4,2.0,5.0]\n",
    "def makefx_tri(data):\n",
    "    f_x = np.empty(shape=(5,data.shape[0]))\n",
    "    #x0=0\n",
    "    ones = np.ones(shape=(1,data.shape[0]))\n",
    "    f_x[0,:] = ones\n",
    "    #x1,x2に教師データの2要素が入る\n",
    "    f_x[1:3,:] = data.T[0:2]\n",
    "    #x3=x1^2\n",
    "    f_x[3,:] = data.T[0,:]**2\n",
    "    f_x[4,:] = data.T[0,:]**3\n",
    "    return f_x.T\n",
    "\n",
    "sample_tri = makefx_tri(X)\n",
    "print(\"今回利用する素性\")\n",
    "print(sample_tri[0:10,:])\n",
    "\n",
    "#学習\n",
    "th_tri = train(sample_tri, y, th_tri, 50, eta=0.01, logFlg=False)\n",
    "\n",
    "print(\"識別関数の値と教師データプロット\")\n",
    "#教師データに対する識別関数の形を見る\n",
    "randsample_tri = makefx_tri(np.random.choice(np.arange(-1.5,2.5,0.01), size=(800,X.shape[1])))\n",
    "plot_decision_boundary(lambda x:sigmoidP(makefx_tri(x),th_tri))\n",
    "\n",
    "#showSigmoidP(randsample_tri, th_tri)\n",
    "\n",
    "ret = plt.scatter(X[:,0], X[:,1], s=40, c=y, cmap=plt.cm.Spectral)"
   ]
  },
  {
   "cell_type": "markdown",
   "metadata": {},
   "source": [
    "うまく月型を分離できている"
   ]
  }
 ],
 "metadata": {
  "anaconda-cloud": {},
  "kernelspec": {
   "display_name": "Python [conda env:for_chainer]",
   "language": "python",
   "name": "conda-env-for_chainer-py"
  },
  "language_info": {
   "codemirror_mode": {
    "name": "ipython",
    "version": 3
   },
   "file_extension": ".py",
   "mimetype": "text/x-python",
   "name": "python",
   "nbconvert_exporter": "python",
   "pygments_lexer": "ipython3",
   "version": "3.6.2"
  }
 },
 "nbformat": 4,
 "nbformat_minor": 1
}

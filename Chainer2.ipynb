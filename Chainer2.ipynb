{
 "cells": [
  {
   "cell_type": "code",
   "execution_count": 2,
   "metadata": {
    "collapsed": true
   },
   "outputs": [],
   "source": [
    "import numpy as np\n",
    "import chainer\n",
    "from chainer import cuda, Function, gradient_check, report, training, utils, Variable\n",
    "from chainer import datasets, iterators, optimizers, serializers\n",
    "from chainer import Link, Chain, ChainList\n",
    "import chainer.functions as F\n",
    "import chainer.links as L\n",
    "from chainer.training import extensions\n",
    "%matplotlib inline\n",
    "from IPython.core.interactiveshell import InteractiveShell\n",
    "InteractiveShell.ast_node_interactivity = \"all\"\n"
   ]
  },
  {
   "cell_type": "markdown",
   "metadata": {},
   "source": [
    "## モデルをチェインとして記述する"
   ]
  },
  {
   "cell_type": "code",
   "execution_count": 10,
   "metadata": {
    "collapsed": false
   },
   "outputs": [
    {
     "data": {
      "text/plain": [
       "array([[-3.09469151,  0.32012695],\n",
       "       [-5.90927601,  0.93085921]], dtype=float32)"
      ]
     },
     "execution_count": 10,
     "metadata": {},
     "output_type": "execute_result"
    }
   ],
   "source": [
    "l1 = L.Linear(4,3)\n",
    "l2 = L.Linear(3,2)\n",
    "\n",
    "def my_forward(x):\n",
    "    h = l1(x)\n",
    "    return l2(h)\n",
    "\n",
    "#4要素のベクトルの2個のミニバッチ\n",
    "data = np.array([[1,2,3,4],\n",
    "                [4,5,6,7]], dtype=np.float32)\n",
    "x = Variable(data)\n",
    "\n",
    "#forward計算で2要素のベクトル×2が出て来る\n",
    "my_forward(x).data\n"
   ]
  },
  {
   "cell_type": "markdown",
   "metadata": {},
   "source": [
    "一応関数で此のようにモデルを書くことはできるが、再利用が難しい\n",
    "\n",
    "クラスで書くほうが望ましい\n"
   ]
  },
  {
   "cell_type": "code",
   "execution_count": 11,
   "metadata": {
    "collapsed": true
   },
   "outputs": [],
   "source": [
    "class MyProc(object):\n",
    "    def __init__(self):\n",
    "        self.l1 = L.Linear(4,3)\n",
    "        self.l2 = L.Linear(3,2)\n",
    "    \n",
    "    def forward(self, x):\n",
    "        h = self.l1(x)\n",
    "        return self.l2(h)"
   ]
  },
  {
   "cell_type": "markdown",
   "metadata": {},
   "source": [
    "クラスで書くとこのようになる\n",
    "さらに、CPU/GPUサポートや、save/load機能などをサポートするにはChainクラスを継承することで可能となる"
   ]
  },
  {
   "cell_type": "code",
   "execution_count": 12,
   "metadata": {
    "collapsed": true
   },
   "outputs": [],
   "source": [
    "class MyChain(Chain):\n",
    "    def __init__(self):\n",
    "        self.l1 = L.Linear(4,3)\n",
    "        self.l2 = L.Linear(3,2)\n",
    "    \n",
    "    def forward(self, x):\n",
    "        h = self.l1(x)\n",
    "        return self.l2(h)"
   ]
  },
  {
   "cell_type": "markdown",
   "metadata": {},
   "source": [
    "このように書いた時、このMyChainの中のl1やl2のリンクを、MyChainの子リンクと呼んだりする\n",
    "\n",
    "さらに、ChainクラスはLinkを継承している。これにより、さらに複雑なチェインがMyChainを子リンクとして持つことも可能"
   ]
  },
  {
   "cell_type": "code",
   "execution_count": 15,
   "metadata": {
    "collapsed": false
   },
   "outputs": [
    {
     "data": {
      "text/plain": [
       "array([[-1.73737729, -1.29845977],\n",
       "       [-2.96359181, -2.7765975 ]], dtype=float32)"
      ]
     },
     "execution_count": 15,
     "metadata": {},
     "output_type": "execute_result"
    }
   ],
   "source": [
    "class MyChain(Chain):\n",
    "    def __init__(self):\n",
    "        self.l1 = L.Linear(4,3)\n",
    "        self.l2 = L.Linear(3,2)\n",
    "    \n",
    "    def __call__(self, x):\n",
    "        h = self.l1(x)\n",
    "        return self.l2(h)\n",
    "\n",
    "#インスタンス作成\n",
    "ch = MyChain()\n",
    "#__call__の定義により関数のように使うことができる\n",
    "ch(x).data\n"
   ]
  },
  {
   "cell_type": "markdown",
   "metadata": {},
   "source": [
    "クラス内で__call__を定義すると関数のように呼ぶことができる"
   ]
  },
  {
   "cell_type": "markdown",
   "metadata": {},
   "source": [
    "### ChainList"
   ]
  },
  {
   "cell_type": "code",
   "execution_count": null,
   "metadata": {
    "collapsed": true
   },
   "outputs": [],
   "source": [
    "class MyChain2(ChainList):\n",
    "    def __init__(self):\n",
    "        super(MyChain2, self).__init__(\n",
    "            L.Linear(4,3),\n",
    "            L.Linear(3,2)\n",
    "        )\n",
    "        \n",
    "    def __call__(self, x):\n",
    "        h = self[0](x)\n",
    "        return self[1](h)"
   ]
  },
  {
   "cell_type": "markdown",
   "metadata": {},
   "source": [
    "ChainListを継承すると任意の数のリンクを便利に扱うことができる\n",
    "\n",
    "ただしリンク数が固定の場合はChainクラスを継承することが推奨される"
   ]
  }
 ],
 "metadata": {
  "anaconda-cloud": {},
  "kernelspec": {
   "display_name": "Python [conda env:for_chainer]",
   "language": "python",
   "name": "conda-env-for_chainer-py"
  },
  "language_info": {
   "codemirror_mode": {
    "name": "ipython",
    "version": 3
   },
   "file_extension": ".py",
   "mimetype": "text/x-python",
   "name": "python",
   "nbconvert_exporter": "python",
   "pygments_lexer": "ipython3",
   "version": "3.6.2"
  }
 },
 "nbformat": 4,
 "nbformat_minor": 1
}

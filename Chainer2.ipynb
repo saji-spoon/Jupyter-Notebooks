{
 "cells": [
  {
   "cell_type": "code",
   "execution_count": 79,
   "metadata": {
    "collapsed": true
   },
   "outputs": [],
   "source": [
    "import numpy as np\n",
    "import chainer\n",
    "from chainer import cuda, Function, gradient_check, report, training, utils, Variable\n",
    "from chainer import datasets, iterators, optimizers, serializers\n",
    "from chainer import Link, Chain, ChainList\n",
    "import chainer.functions as F\n",
    "import chainer.links as L\n",
    "from chainer.training import extensions\n",
    "%matplotlib inline\n",
    "from IPython.core.interactiveshell import InteractiveShell\n",
    "InteractiveShell.ast_node_interactivity = \"all\"\n"
   ]
  },
  {
   "cell_type": "markdown",
   "metadata": {},
   "source": [
    "## モデルをチェインとして記述する"
   ]
  },
  {
   "cell_type": "code",
   "execution_count": 80,
   "metadata": {
    "collapsed": false
   },
   "outputs": [
    {
     "data": {
      "text/plain": [
       "array([[-1.19160485, -3.2900362 ],\n",
       "       [-3.01705313, -6.96557999]], dtype=float32)"
      ]
     },
     "execution_count": 80,
     "metadata": {},
     "output_type": "execute_result"
    }
   ],
   "source": [
    "l1 = L.Linear(4,3)\n",
    "l2 = L.Linear(3,2)\n",
    "\n",
    "def my_forward(x):\n",
    "    h = l1(x)\n",
    "    return l2(h)\n",
    "\n",
    "#4要素のベクトルの2個のミニバッチ\n",
    "data = np.array([[1,2,3,4],\n",
    "                [4,5,6,7]], dtype=np.float32)\n",
    "x = Variable(data)\n",
    "\n",
    "#forward計算で2要素のベクトル×2が出て来る\n",
    "my_forward(x).data\n"
   ]
  },
  {
   "cell_type": "markdown",
   "metadata": {},
   "source": [
    "一応関数で此のようにモデルを書くことはできるが、再利用が難しい\n",
    "\n",
    "クラスで書くほうが望ましい\n"
   ]
  },
  {
   "cell_type": "code",
   "execution_count": 81,
   "metadata": {
    "collapsed": true
   },
   "outputs": [],
   "source": [
    "class MyProc(object):\n",
    "    def __init__(self):\n",
    "        self.l1 = L.Linear(4,3)\n",
    "        self.l2 = L.Linear(3,2)\n",
    "    \n",
    "    def forward(self, x):\n",
    "        h = self.l1(x)\n",
    "        return self.l2(h)"
   ]
  },
  {
   "cell_type": "markdown",
   "metadata": {},
   "source": [
    "クラスで書くとこのようになる\n",
    "さらに、CPU/GPUサポートや、save/load機能などをサポートするにはChainクラスを継承することで可能となる"
   ]
  },
  {
   "cell_type": "code",
   "execution_count": 82,
   "metadata": {
    "collapsed": true
   },
   "outputs": [],
   "source": [
    "class MyChain(Chain):\n",
    "    def __init__(self):\n",
    "        super(MyChain, self).__init__()\n",
    "        with self.init_scope():\n",
    "            self.l1 = L.Linear(4,3)\n",
    "            self.l2 = L.Linear(3,2)\n",
    "    \n",
    "    def forward(self, x):\n",
    "        h = self.l1(x)\n",
    "        return self.l2(h)"
   ]
  },
  {
   "cell_type": "markdown",
   "metadata": {},
   "source": [
    "このように書いた時、このMyChainの中のl1やl2のリンクを、MyChainの子リンクと呼んだりする\n",
    "\n",
    "さらに、ChainクラスはLinkを継承している。これにより、さらに複雑なチェインがMyChainを子リンクとして持つことも可能\n",
    "\n",
    "学習可能なレイヤ（Linkなど）をChainへ登録するのに、v1ではChainクラスのコンストラクタやadd_link関数を通していたが、v2では上の用に書くことが推奨される"
   ]
  },
  {
   "cell_type": "code",
   "execution_count": 83,
   "metadata": {
    "collapsed": false
   },
   "outputs": [
    {
     "data": {
      "text/plain": [
       "array([[  0.46987295,  -5.81955385],\n",
       "       [  0.9263339 , -13.46533489]], dtype=float32)"
      ]
     },
     "execution_count": 83,
     "metadata": {},
     "output_type": "execute_result"
    }
   ],
   "source": [
    "class MyChain(Chain):\n",
    "    def __init__(self):\n",
    "        super(MyChain, self).__init__()\n",
    "        with self.init_scope():\n",
    "            self.l1 = L.Linear(4,3)\n",
    "            self.l2 = L.Linear(3,2)\n",
    "    \n",
    "    def __call__(self, x):\n",
    "        h = self.l1(x)\n",
    "        return self.l2(h)\n",
    "\n",
    "#インスタンス作成\n",
    "ch = MyChain()\n",
    "#__call__の定義により関数のように使うことができる\n",
    "ch(x).data\n"
   ]
  },
  {
   "cell_type": "markdown",
   "metadata": {},
   "source": [
    "クラス内で__call__を定義すると関数のように呼ぶことができる"
   ]
  },
  {
   "cell_type": "markdown",
   "metadata": {},
   "source": [
    "### ChainList"
   ]
  },
  {
   "cell_type": "code",
   "execution_count": 84,
   "metadata": {
    "collapsed": true
   },
   "outputs": [],
   "source": [
    "class MyChain2(ChainList):\n",
    "    def __init__(self):\n",
    "        super(MyChain2, self).__init__(\n",
    "            L.Linear(4,3),\n",
    "            L.Linear(3,2)\n",
    "        )\n",
    "                \n",
    "    def __call__(self, x):\n",
    "        h = self[0](x)\n",
    "        return self[1](h)"
   ]
  },
  {
   "cell_type": "markdown",
   "metadata": {},
   "source": [
    "ChainListを継承すると任意の数のリンクを便利に扱うことができる\n",
    "\n",
    "ただしリンク数が固定の場合はChainクラスを継承することが推奨される"
   ]
  },
  {
   "cell_type": "markdown",
   "metadata": {},
   "source": [
    "### Optimizer"
   ]
  },
  {
   "cell_type": "code",
   "execution_count": 85,
   "metadata": {
    "collapsed": false
   },
   "outputs": [],
   "source": [
    "model = MyChain()\n",
    "optimizer = optimizers.SGD()\n",
    "optimizer.setup(model)"
   ]
  },
  {
   "cell_type": "markdown",
   "metadata": {},
   "source": [
    "パラメータの最適化アルゴリズムがoptimizers下に実装されている\n",
    "\n",
    "optimizer.setup(model)\n",
    "\n",
    "でmodel上でoptimizerが働くようになる\n",
    "\n",
    "下記のようにして、勾配計算後、パラメータ更新前に呼び出されるフック関数を設定できる（正則化関数等）\n"
   ]
  },
  {
   "cell_type": "code",
   "execution_count": 86,
   "metadata": {
    "collapsed": true
   },
   "outputs": [],
   "source": [
    "optimizer.add_hook(chainer.optimizer.WeightDecay(0.0005))"
   ]
  },
  {
   "cell_type": "markdown",
   "metadata": {},
   "source": [
    "### Directly Use Optimizer\n",
    "\n",
    "Optimizerを直接扱う場合について説明する\n",
    "\n",
    "直接扱う場合にも2通りの方法がある\n",
    "\n",
    "まず、下記では「手動で勾配を計算して、update()関数を呼び出す方法」について説明する"
   ]
  },
  {
   "cell_type": "code",
   "execution_count": 87,
   "metadata": {
    "collapsed": false
   },
   "outputs": [
    {
     "data": {
      "text/plain": [
       "'結果は2次元×ミニバッチ2個'"
      ]
     },
     "execution_count": 87,
     "metadata": {},
     "output_type": "execute_result"
    },
    {
     "data": {
      "text/plain": [
       "variable([[ 0.04464273,  0.10187956],\n",
       "          [-0.19118905, -0.0876995 ]])"
      ]
     },
     "execution_count": 87,
     "metadata": {},
     "output_type": "execute_result"
    },
    {
     "data": {
      "text/plain": [
       "'更新前の重みと勾配'"
      ]
     },
     "execution_count": 87,
     "metadata": {},
     "output_type": "execute_result"
    },
    {
     "data": {
      "text/plain": [
       "variable W([[ 0.70131022,  0.16021767,  0.15233542],\n",
       "            [ 0.82547462,  0.14936391, -0.20094587]])"
      ]
     },
     "execution_count": 87,
     "metadata": {},
     "output_type": "execute_result"
    },
    {
     "data": {
      "text/plain": [
       "array([[-0.03631453, -0.32036534, -0.45787361],\n",
       "       [-0.03631453, -0.32036534, -0.45787361]], dtype=float32)"
      ]
     },
     "execution_count": 87,
     "metadata": {},
     "output_type": "execute_result"
    },
    {
     "data": {
      "text/plain": [
       "'更新後の重み'"
      ]
     },
     "execution_count": 87,
     "metadata": {},
     "output_type": "execute_result"
    },
    {
     "data": {
      "text/plain": [
       "variable W([[ 0.70166987,  0.16342053,  0.1569134 ],\n",
       "            [ 0.82583362,  0.15256681, -0.19636613]])"
      ]
     },
     "execution_count": 87,
     "metadata": {},
     "output_type": "execute_result"
    },
    {
     "data": {
      "text/plain": [
       "array([[-0.03596388, -0.32028523, -0.45779744],\n",
       "       [-0.0359018 , -0.32029065, -0.45797408]], dtype=float32)"
      ]
     },
     "execution_count": 87,
     "metadata": {},
     "output_type": "execute_result"
    }
   ],
   "source": [
    "#ミニバッチ2個で4次元データを用意\n",
    "x = np.random.uniform(-1, 1, (2, 4)).astype('f')\n",
    "\n",
    "#勾配を初期化\n",
    "model.cleargrads()\n",
    "\n",
    "'結果は2次元×ミニバッチ2個'\n",
    "model(Variable(x))\n",
    "\n",
    "#ミニバッチも含めた結果全ての和をlossとする\n",
    "loss = F.sum(model(Variable(x)))\n",
    "\n",
    "#勾配計算\n",
    "loss.backward()\n",
    "\n",
    "#MyChainのWを一つ取り出して、勾配計算結果と、パラメータの更新を見てみる\n",
    "p = model.params()\n",
    "\n",
    "temp = p.__next__()\n",
    "temp = p.__next__()\n",
    "\n",
    "#重み行列の1つとその計算された勾配\n",
    "'更新前の重みと勾配'\n",
    "temp \n",
    "temp.grad\n",
    "\n",
    "#optimizerが重みを更新する\n",
    "optimizer.update()\n",
    "\n",
    "#更新後　おそらくデフォルトの学習係数は0.01\n",
    "#W_new = W_old - 0.01 * W.grad ぐらいにだいたいなってることが分かる\n",
    "'更新後の重み'\n",
    "temp \n",
    "temp.grad"
   ]
  },
  {
   "cell_type": "markdown",
   "metadata": {},
   "source": [
    "もう1つの方法として、optimizerのupdate関数にloss関数を渡す方法がある"
   ]
  },
  {
   "cell_type": "code",
   "execution_count": 88,
   "metadata": {
    "collapsed": false
   },
   "outputs": [],
   "source": [
    "def lossfun(arg1, arg2):\n",
    "    loss = F.sum(model(arg1-arg2))\n",
    "    return loss\n",
    "\n",
    "x1 = np.random.uniform(-1, 1, (2, 4)).astype('f')\n",
    "x2 = np.random.uniform(-1, 1, (2, 4)).astype('f')\n",
    "\n",
    "#modelの初期化は自動で行われる\n",
    "optimizer.update(lossfun, Variable(x1), Variable(x2))\n"
   ]
  },
  {
   "cell_type": "markdown",
   "metadata": {},
   "source": [
    "この方法のとき、modelの勾配の初期化は自動で行われる"
   ]
  },
  {
   "cell_type": "markdown",
   "metadata": {},
   "source": [
    "### Trainer\n",
    "\n",
    "Training loop…パラメータ更新のため行われる作業の繰り返し\n",
    "\n",
    "典型的には以下のプロセスからなる\n",
    "\n",
    "1. 学習用データセットをなめる\n",
    "1. ミニバッチの前処理\n",
    "1. NNを使ってForward/Backwardの計算\n",
    "1. パラメータ更新\n",
    "1. 現在のパラメータでテスト用データを使って計算\n",
    "1. 中間結果の表示・ログ\n",
    "\n",
    "データセット抽象化 … 上記1と2を解決する。主にdatasetモジュールで定義されている\n",
    "\n",
    "Trainer … 上記3～6を実装する。手順全体はTrainerに実装されている。3と4はUpdaterに定義されており、カスタマイズ可能。5と6はExtensionに実装されており、Training loopに追加の手順を加えることができる。これでTraining loopを自由にカスタマイズできる他、ユーザー定義Extensionも作ることができる。\n",
    "\n",
    "Trainerに入る前にSerializerについて説明する"
   ]
  },
  {
   "cell_type": "markdown",
   "metadata": {},
   "source": [
    "### Serializer\n",
    "\n",
    "Link, Optimizer, Trainerのシリアライズ用のモジュール\n",
    "npz形式とhdf5形式がある"
   ]
  },
  {
   "cell_type": "code",
   "execution_count": 96,
   "metadata": {
    "collapsed": false
   },
   "outputs": [
    {
     "data": {
      "text/plain": [
       "variable W([[ 0.61994195, -0.31311899, -0.15495424],\n",
       "            [ 0.01517388,  0.72535217,  0.38055357]])"
      ]
     },
     "execution_count": 96,
     "metadata": {},
     "output_type": "execute_result"
    },
    {
     "data": {
      "text/plain": [
       "array([[-1.10998738, -0.91063684,  1.18537974],\n",
       "       [-1.11028981, -0.91011763,  1.18564749]], dtype=float32)"
      ]
     },
     "execution_count": 96,
     "metadata": {},
     "output_type": "execute_result"
    },
    {
     "data": {
      "text/plain": [
       "'ロード'"
      ]
     },
     "execution_count": 96,
     "metadata": {},
     "output_type": "execute_result"
    },
    {
     "data": {
      "text/plain": [
       "variable W([[ 0.60884207, -0.32222536, -0.14310044],\n",
       "            [ 0.00407098,  0.71625102,  0.39241004]])"
      ]
     },
     "execution_count": 96,
     "metadata": {},
     "output_type": "execute_result"
    },
    {
     "data": {
      "text/plain": [
       "'重みはファイルに保存されていない'"
      ]
     },
     "execution_count": 96,
     "metadata": {},
     "output_type": "execute_result"
    },
    {
     "data": {
      "text/plain": [
       "array([[-1.10998738, -0.91063684,  1.18537974],\n",
       "       [-1.11028981, -0.91011763,  1.18564749]], dtype=float32)"
      ]
     },
     "execution_count": 96,
     "metadata": {},
     "output_type": "execute_result"
    }
   ],
   "source": [
    "optimizer.update(lossfun, x1-x2, x2-x1)\n",
    "\n",
    "params = model.params()\n",
    "W = params.__next__()\n",
    "W = params.__next__()\n",
    "W\n",
    "W.grad\n",
    "\n",
    "#ロード\n",
    "'ロード'\n",
    "serializers.load_npz('my.model', model)\n",
    "\n",
    "#重みは保存されたものをロードしている　勾配はもともとmodelに入れられていたのがそのまま残っている\n",
    "#（ファイルには保存されていない）\n",
    "params = model.params()\n",
    "W = params.__next__()\n",
    "W = params.__next__()\n",
    "W\n",
    "'重みはファイルに保存されていない'\n",
    "W.grad"
   ]
  }
 ],
 "metadata": {
  "anaconda-cloud": {},
  "kernelspec": {
   "display_name": "Python [conda env:for_chainer]",
   "language": "python",
   "name": "conda-env-for_chainer-py"
  },
  "language_info": {
   "codemirror_mode": {
    "name": "ipython",
    "version": 3
   },
   "file_extension": ".py",
   "mimetype": "text/x-python",
   "name": "python",
   "nbconvert_exporter": "python",
   "pygments_lexer": "ipython3",
   "version": "3.6.2"
  }
 },
 "nbformat": 4,
 "nbformat_minor": 1
}

{
 "cells": [
  {
   "cell_type": "markdown",
   "metadata": {},
   "source": [
    "## シングル版"
   ]
  },
  {
   "cell_type": "code",
   "execution_count": null,
   "metadata": {
    "collapsed": false
   },
   "outputs": [],
   "source": [
    "import socket\n",
    "\n",
    "s=socket.socket()\n",
    "port = 13000\n",
    "\n",
    "s.bind((\"localhost\",port))\n",
    "s.listen(5)\n",
    "c, addr = s.accept()\n",
    "print(\"Opponent Address:\",addr)\n",
    "wholeData = b''\n",
    "for i in range(100):\n",
    "    recieved = c.recv(3)\n",
    "    if len(recieved)==0: break\n",
    "    wholeData += recieved\n",
    "\n",
    "c.sendall(b'Hello, C#!')\n",
    "\n",
    "c.close()\n",
    "\n",
    "print(wholeData)"
   ]
  },
  {
   "cell_type": "code",
   "execution_count": 2,
   "metadata": {
    "collapsed": false
   },
   "outputs": [
    {
     "name": "stdout",
     "output_type": "stream",
     "text": [
      "recieved: b'Hel'\n",
      "recieved: b'lo,'\n",
      "recieved: b' Py'\n",
      "recieved: b'tho'\n",
      "recieved: b'n!'\n",
      "recieved: b''\n",
      "b'Hello, Python!'\n",
      "data sent.\n"
     ]
    }
   ],
   "source": [
    "import socketserver\n",
    "\n",
    "class Handler(socketserver.BaseRequestHandler):\n",
    "    def handle(self):\n",
    "        self.data = b''\n",
    "        for i in range(100):\n",
    "            recieved = self.request.recv(3)\n",
    "            print(\"recieved:\",recieved)\n",
    "            if len(recieved)==0:break\n",
    "            self.data += recieved        \n",
    "        #some process(machine learning)\n",
    "        print(self.data)\n",
    "        self.request.sendall(b'Hello, C#!')\n",
    "        print(\"data sent.\")\n",
    "        \n",
    "HOST, PORT = \"localhost\", 13000\n",
    "# Create the server, binding to localhost on port 9999\n",
    "with socketserver.TCPServer((HOST, PORT), Handler) as server:\n",
    "    server.timeout = 300\n",
    "    server.allow_reuse_address = True\n",
    "    server.handle_request()\n",
    "    #server.serve_forever()"
   ]
  },
  {
   "cell_type": "code",
   "execution_count": 1,
   "metadata": {
    "collapsed": false
   },
   "outputs": [
    {
     "ename": "IndentationError",
     "evalue": "unexpected indent (<ipython-input-1-37eac8f74368>, line 6)",
     "output_type": "error",
     "traceback": [
      "\u001b[1;36m  File \u001b[1;32m\"<ipython-input-1-37eac8f74368>\"\u001b[1;36m, line \u001b[1;32m6\u001b[0m\n\u001b[1;33m    The request handler class for our server.\u001b[0m\n\u001b[1;37m    ^\u001b[0m\n\u001b[1;31mIndentationError\u001b[0m\u001b[1;31m:\u001b[0m unexpected indent\n"
     ]
    }
   ],
   "source": [
    "\"\"\"\"\n",
    "import socketserver\n",
    "\n",
    "class MyTCPHandler(socketserver.BaseRequestHandler):\n",
    "    \"\"\"\n",
    "    The request handler class for our server.\n",
    "\n",
    "    It is instantiated once per connection to the server, and must\n",
    "    override the handle() method to implement communication to the\n",
    "    client.\n",
    "    \"\"\"\n",
    "\n",
    "    def handle(self):\n",
    "        # self.request is the TCP socket connected to the client\n",
    "        self.data = self.request.recv(1024).strip()\n",
    "        print(\"{} wrote:\".format(self.client_address[0]))\n",
    "        print(self.data)\n",
    "        # just send back the same data, but upper-cased\n",
    "        self.request.sendall(self.data.upper())\n",
    "\n",
    "if __name__ == \"__main__\":\n",
    "    HOST, PORT = \"localhost\", 9999\n",
    "\n",
    "    # Create the server, binding to localhost on port 9999\n",
    "    with socketserver.TCPServer((HOST, PORT), MyTCPHandler) as server:\n",
    "        # Activate the server; this will keep running until you\n",
    "        # interrupt the program with Ctrl-C\n",
    "        server.serve_forever()\n",
    "        \"\"\"\""
   ]
  }
 ],
 "metadata": {
  "anaconda-cloud": {},
  "kernelspec": {
   "display_name": "Python [conda env:for_chainer]",
   "language": "python",
   "name": "conda-env-for_chainer-py"
  },
  "language_info": {
   "codemirror_mode": {
    "name": "ipython",
    "version": 3
   },
   "file_extension": ".py",
   "mimetype": "text/x-python",
   "name": "python",
   "nbconvert_exporter": "python",
   "pygments_lexer": "ipython3",
   "version": "3.6.2"
  }
 },
 "nbformat": 4,
 "nbformat_minor": 1
}

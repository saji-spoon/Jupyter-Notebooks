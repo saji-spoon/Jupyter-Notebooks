{
 "cells": [
  {
   "cell_type": "markdown",
   "metadata": {},
   "source": [
    "### 単回帰問題\n",
    "http://tkengo.github.io/blog/2016/01/04/yaruo-machine-learning2/"
   ]
  },
  {
   "cell_type": "markdown",
   "metadata": {},
   "source": [
    "説明中の攻撃力-実際に与えるダメージの教師データと初期予測を描画"
   ]
  },
  {
   "cell_type": "code",
   "execution_count": 54,
   "metadata": {
    "collapsed": false
   },
   "outputs": [
    {
     "data": {
      "image/png": "[encoded data removed]",
      "text/plain": [
       "<matplotlib.figure.Figure at 0x7126c3fc50>"
      ]
     },
     "metadata": {},
     "output_type": "display_data"
    }
   ],
   "source": [
    "import numpy as np\n",
    "from matplotlib import pyplot as plt\n",
    "from sklearn import datasets\n",
    "from jupyterthemes import jtplot\n",
    "jtplot.style()\n",
    "%matplotlib inline\n",
    "from IPython.core.interactiveshell import InteractiveShell\n",
    "InteractiveShell.ast_node_interactivity = \"all\"\n",
    "#教師データ\n",
    "X = np.array([[3.0,30],\n",
    "              [3.7,35],\n",
    "              [4.3,33],\n",
    "              [4.6, 44]\n",
    "             ]);\n",
    "plt.scatter(X[:,0],X[:,1])\n",
    "\n",
    "#初期θ\n",
    "th0 = 1\n",
    "th1 = 2\n",
    "\n",
    "x2 = np.arange(0, 10)\n",
    "y2 = th0 + th1*x2;\n",
    "\n",
    "plt.plot(x2, y2, c=\"red\");\n"
   ]
  },
  {
   "cell_type": "markdown",
   "metadata": {},
   "source": [
    "青プロットがサンプル \n",
    "\n",
    "赤が初期予測データ f_θ(x)\n",
    "\n",
    "赤の直線を青のサンプルにフッティングするため、誤差を減らしていく\n",
    "\n",
    "yを教師データ（青）として\n",
    "\n",
    "|y - f_θ(x)|\n",
    "を小さくするθを発見する\n",
    "\n",
    "誤差を表す関数は、全ての教師データ(x_i, y_i)(i=0~n)に対して\n",
    "\n",
    "E(θ) = (1/2)(yi - fθ (xi ))^2"
   ]
  },
  {
   "cell_type": "code",
   "execution_count": 63,
   "metadata": {
    "collapsed": false
   },
   "outputs": [
    {
     "name": "stdout",
     "output_type": "stream",
     "text": [
      "~θ = (1,2)\n",
      "E(θ) = 1463.28\n"
     ]
    }
   ],
   "source": [
    "#今仮定している予測データで誤差を出してみる\n",
    "E = 0\n",
    "for x,y in X:    \n",
    "    f_xi = th0 * 1 + th1 * x \n",
    "    E = E + 1.0/2.0 * (y - f_xi)**2\n",
    "print(\"~θ = ({0},{1})\".format(th0,th1))\n",
    "print(\"E(θ) =\",E)"
   ]
  },
  {
   "cell_type": "markdown",
   "metadata": {},
   "source": [
    "このEを、~θについて小さくしていく\n",
    "\n",
    "このようなEを、目的変数と呼ぶ"
   ]
  },
  {
   "cell_type": "markdown",
   "metadata": {},
   "source": [
    "#### 最急降下法\n",
    "\n",
    "例えば二次関数y = 2x + 1について、最急降下法を適用し、極小値を求めるとすると、以下の式に従い変数xを更新する。\n",
    "\n",
    "x_new  = x_old-η*dy/dx \n",
    "\n",
    "多変数の場合でも偏微分として同様にできる。\n",
    "すなわち、変数に対して適当な初期値から初めて、目的変数を偏微分した傾きを古い値から引く→新たな値とするという更新を繰り返す。\n",
    "\n"
   ]
  },
  {
   "cell_type": "code",
   "execution_count": 79,
   "metadata": {
    "collapsed": false
   },
   "outputs": [
    {
     "name": "stdout",
     "output_type": "stream",
     "text": [
      "[1, 2]\n",
      "[2.0680000000000001, 6.2351999999999999]\n",
      "[2.4325888, 7.6635683199999995]\n",
      "[2.55976859008, 8.1446159765120001]\n",
      "[2.6068177541409279, 8.3059384767019395]\n",
      "[2.6268186416097881, 8.3593528606799659]\n",
      "[2.637686849679322, 8.3763485792409487]\n",
      "[2.6454689973305614, 8.3810537263921674]\n",
      "[2.6522058561201609, 8.3816116697757224]\n",
      "[2.6585862013903419, 8.3807708412827928]\n"
     ]
    },
    {
     "data": {
      "image/png": "[encoded data removed]",
      "text/plain": [
       "<matplotlib.figure.Figure at 0x71280071d0>"
      ]
     },
     "metadata": {},
     "output_type": "display_data"
    }
   ],
   "source": [
    "#th0, th1を更新していく\n",
    "#dE/dθ0, dE/dθ1を求める\n",
    "\n",
    "#このセル用に傾きを初期化\n",
    "th0 = 1\n",
    "th1 = 2\n",
    "\n",
    "#η 更新の速さを決める係数\n",
    "eta = 0.01\n",
    "#10回更新\n",
    "for i in range(0,10):\n",
    "    print([th0,th1])\n",
    "    E_grad0 = 0\n",
    "    for x,y in X:    \n",
    "        f_xi = th0 * 1 + th1 * x \n",
    "        E_grad0 = E_grad0 + (f_xi - y)\n",
    "    E_grad1 = 0\n",
    "    for x,y in X:\n",
    "        f_xi = th0 * 1 + th1 * x \n",
    "        E_grad1 = E_grad1 + (f_xi - y) * x\n",
    "    th0 = th0 - eta * E_grad0\n",
    "    th1 = th1 - eta * E_grad1\n",
    "\n",
    "plt.scatter(X[:,0],X[:,1])\n",
    "\n",
    "x2 = np.arange(0, 10)\n",
    "y2 = th0 + th1*x2;\n",
    "\n",
    "plt.plot(x2, y2, c=\"red\");\n",
    "    \n",
    "    "
   ]
  },
  {
   "cell_type": "markdown",
   "metadata": {},
   "source": [
    "#### 多項式回帰と重回帰\n",
    "\n",
    "##### 多項式回帰\n",
    "上記のf(θ, x)において、fがxの多項式になっている場合\n",
    "\n",
    "例：\n",
    "攻撃力に対して与えるダメージが決まるが、実は計算式は二次関数だった\n",
    "\n",
    "$f = th0 + th1*x + th2*x^2$\n",
    "\n",
    "予測対象の関数がn次関数となるため、曲線でのフィッティングが可能\n",
    "\n",
    "\n",
    "##### 重回帰\n",
    "予測対象の関数fが多変数関数のとき\n",
    "\n",
    "この多変数のことを素性とも呼ぶ\n",
    "\n",
    "例：\n",
    "攻撃力だけでなく、LVや体力も与えるダメージに関わる変数だった\n",
    "\n",
    "$f = th0 + th1*x + th2*y + th3*z$\n",
    "\n",
    "$f = th0*x0 + th1*x1 + th2*x2 + th3*x3$　$(x0=1)$\n",
    "\n",
    "と書いてもいい（このxiのiはこの前セルまでのサンプル番号を表すiとは異なるため注意）\n",
    "\n"
   ]
  },
  {
   "cell_type": "markdown",
   "metadata": {},
   "source": [
    "#### (参考)パーセプトロンとロジスティック回帰\n",
    "\n",
    "パーセプトロンとロジスティック回帰は別々に解説されることも多いが、モデルとして等価である\n",
    "\n",
    "参考に、やる夫で解説されている(単相)パーセプトロンは活性化関数の出力が0または1で、重みを更新していく。\n",
    "\n",
    "この時、うまく線形分離可能な方向に重みが動くように活性化関数の出力と更新式を形作るのでフィッティングする\n",
    "\n",
    "ロジスティック回帰は、活性化関数の出力はシグモイド関数になり、重み（パラメータθ）は全てのサンプルが正解ラベルに属する同時確率が最大になるように最大化される。このとき、確率を最大化するようにパラメータθを最大化するので、尤度として扱われる。"
   ]
  }
 ],
 "metadata": {
  "anaconda-cloud": {},
  "kernelspec": {
   "display_name": "Python [conda root]",
   "language": "python",
   "name": "conda-root-py"
  },
  "language_info": {
   "codemirror_mode": {
    "name": "ipython",
    "version": 3
   },
   "file_extension": ".py",
   "mimetype": "text/x-python",
   "name": "python",
   "nbconvert_exporter": "python",
   "pygments_lexer": "ipython3",
   "version": "3.5.2"
  }
 },
 "nbformat": 4,
 "nbformat_minor": 1
}

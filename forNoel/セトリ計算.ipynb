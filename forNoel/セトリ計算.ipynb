{
 "cells": [
  {
   "cell_type": "markdown",
   "metadata": {},
   "source": [
    "## 第二弾"
   ]
  },
  {
   "cell_type": "code",
   "execution_count": 2,
   "metadata": {
    "collapsed": true
   },
   "outputs": [],
   "source": [
    "#boost並びから総LP, 総pt, pt/LPを計算するだけの関数群\n",
    "def GetAllLP(boost):\n",
    "    allLP = 0\n",
    "    for i in range(7):\n",
    "        allLP += LPunit * boost[i]\n",
    "    return allLP    \n",
    "\n",
    "def GetAllPtExceptMission(boost):    \n",
    "    musicSumPt = 0\n",
    "    for i in range(7):\n",
    "        musicSumPt += pts[i] * boost[i]\n",
    "    sumPt = musicSumPt + clearPt    \n",
    "    return sumPt\n",
    "def GetAllPt(boost):    \n",
    "    allPt = missionBonus + GetAllPtExceptMission(boost)    \n",
    "    return allPt\n",
    "\n",
    "def GetPtEff(boost):\n",
    "    allPt = GetAllPt(boost)\n",
    "    allLP = GetAllLP(boost)\n",
    "    ptEff = 1.0 * allPt / allLP\n",
    "    return ptEff\n",
    "\n",
    "#表示用\n",
    "def printPtEff(boost):    \n",
    "    allPt = GetAllPt(boost)\n",
    "    allLP = GetAllLP(boost)\n",
    "    print(\"all Pt:\",allPt)\n",
    "    print(\"all LP:\",allLP)\n",
    "    ptEff = GetPtEff(boost)\n",
    "    print(\"Efficiency\",ptEff)\n"
   ]
  },
  {
   "cell_type": "code",
   "execution_count": 3,
   "metadata": {
    "collapsed": true
   },
   "outputs": [],
   "source": [
    "#データを用意\n",
    "noelData = {\n",
    "    \"pts\":[427,486,493,561,646,707,778],\n",
    "    \"clear\":500,\n",
    "    \"mission\":450\n",
    "}\n",
    "ch2Data = {\n",
    "    \"pts\":[500,575,650,725,800,875,950],\n",
    "    \"clear\":500,\n",
    "    \"mission\":450\n",
    "}\n",
    "\n",
    "#今回は2chで効率計算されていたデータを使う\n",
    "targetData = noelData\n",
    "\n",
    "pts = targetData[\"pts\"]\n",
    "missionBonus = targetData[\"mission\"]\n",
    "clearPt = targetData[\"clear\"]\n",
    "\n",
    "#1曲あたりのスタミナ\n",
    "LPunit = 25\n",
    "#1曲にかけられる最大boost数\n",
    "maxBoost = 3"
   ]
  },
  {
   "cell_type": "code",
   "execution_count": 4,
   "metadata": {
    "collapsed": false
   },
   "outputs": [
    {
     "name": "stdout",
     "output_type": "stream",
     "text": [
      "26.274285714285714\n"
     ]
    }
   ],
   "source": [
    "testBoost = [1,1,1,1,1,1,1]\n",
    "print(1.0 * GetAllPtExceptMission(testBoost)/GetAllLP(testBoost))    "
   ]
  },
  {
   "cell_type": "code",
   "execution_count": 6,
   "metadata": {
    "collapsed": false
   },
   "outputs": [
    {
     "name": "stdout",
     "output_type": "stream",
     "text": [
      "最大効率： (29.351111111111113, [1, 1, 1, 1, 1, 1, 3])\n",
      "\n",
      "一覧\n",
      "boost: [1, 1, 1, 1, 1, 1, 1]  pt/LP: 28.845714285714287\n",
      "boost: [1, 1, 1, 1, 1, 1, 2]  pt/LP: 29.13\n",
      "boost: [1, 1, 1, 1, 1, 1, 3]  pt/LP: 29.351111111111113\n",
      "boost: [1, 1, 1, 1, 1, 2, 3]  pt/LP: 29.244\n",
      "boost: [1, 1, 1, 1, 1, 3, 3]  pt/LP: 29.156363636363636\n",
      "boost: [1, 1, 1, 1, 2, 3, 3]  pt/LP: 28.88\n",
      "boost: [1, 1, 1, 1, 3, 3, 3]  pt/LP: 28.646153846153847\n",
      "boost: [1, 1, 1, 2, 3, 3, 3]  pt/LP: 28.202857142857145\n",
      "boost: [1, 1, 1, 3, 3, 3, 3]  pt/LP: 27.818666666666665\n",
      "boost: [1, 1, 2, 3, 3, 3, 3]  pt/LP: 27.3125\n",
      "boost: [1, 1, 3, 3, 3, 3, 3]  pt/LP: 26.865882352941178\n",
      "boost: [1, 2, 3, 3, 3, 3, 3]  pt/LP: 26.453333333333333\n",
      "boost: [1, 3, 3, 3, 3, 3, 3]  pt/LP: 26.08421052631579\n",
      "boost: [2, 3, 3, 3, 3, 3, 3]  pt/LP: 25.634\n",
      "boost: [3, 3, 3, 3, 3, 3, 3]  pt/LP: 25.226666666666667\n"
     ]
    }
   ],
   "source": [
    "#効率と7曲のboost並びの組み合わせを記録する\n",
    "effAndBoost = []\n",
    "\n",
    "idx = 0\n",
    "\n",
    "#計算用のboost（初期値）\n",
    "boostRev = [1,1,1,1,1,1,1]\n",
    "#boostRevはループの中で[2,1,1...]→[3,1,1...]と先頭から加算\n",
    "#実際計算に使うのはこれを反転して[...1,1,2]→[...1,1,3]　曲順後ろからブーストを増やしつつ効率を計算する\n",
    "\n",
    "boost = list(reversed(boostRev))\n",
    "#boostで効率を計算\n",
    "eff = GetPtEff(boost)\n",
    "#boostと効率のtupleを配列に突っ込んでおく\n",
    "effAndBoost.append((eff, boost))        \n",
    "\n",
    "for temp1 in range(200): #無限ループ嫌なだけ　temp1は使わない\n",
    "    if not(idx < len(boostRev)): break #boostRevを全部調べ終わったら終わり\n",
    "    for inc in range(maxBoost-1): #boostRevの注目値を2～maxBoostの範囲で変化させたい\n",
    "        boostRev[idx] += 1\n",
    "        #boostRevを反転してboost並びを得る        \n",
    "        boost = list(reversed(boostRev))\n",
    "        #boostで効率を計算\n",
    "        eff = GetPtEff(boost)\n",
    "        #boostと効率のtupleを配列に突っ込んでおく\n",
    "        effAndBoost.append((eff, boost))        \n",
    "        #printPtEff(boost)\n",
    "        #print(boost, \"\\n\")\n",
    "        #今見ているboostRevの要素を1増やす\n",
    "    #boostRevの次の要素を見る\n",
    "    idx += 1\n",
    "    \n",
    "#pt/LPの最大効率とその時のboostを返す\n",
    "print (\"最大効率：\",max(effAndBoost))\n",
    "print(\"\\n一覧\")\n",
    "for tup in effAndBoost:\n",
    "    print(\"boost:\",tup[1], \" pt/LP:\", tup[0])"
   ]
  },
  {
   "cell_type": "code",
   "execution_count": 8,
   "metadata": {
    "collapsed": false
   },
   "outputs": [
    {
     "data": {
      "text/plain": [
       "4598"
      ]
     },
     "execution_count": 8,
     "metadata": {},
     "output_type": "execute_result"
    }
   ],
   "source": [
    "boost = [1,1,1,1,1,1,1]\n",
    "\n",
    "GetAllPtExceptMission(boost)\n"
   ]
  }
 ],
 "metadata": {
  "anaconda-cloud": {},
  "kernelspec": {
   "display_name": "Python [conda root]",
   "language": "python",
   "name": "conda-root-py"
  },
  "language_info": {
   "codemirror_mode": {
    "name": "ipython",
    "version": 3
   },
   "file_extension": ".py",
   "mimetype": "text/x-python",
   "name": "python",
   "nbconvert_exporter": "python",
   "pygments_lexer": "ipython3",
   "version": "3.5.2"
  }
 },
 "nbformat": 4,
 "nbformat_minor": 1
}

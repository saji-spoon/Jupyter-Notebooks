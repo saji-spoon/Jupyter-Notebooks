{
 "cells": [
  {
   "cell_type": "code",
   "execution_count": 7,
   "metadata": {
    "collapsed": true
   },
   "outputs": [],
   "source": []
  },
  {
   "cell_type": "code",
   "execution_count": 17,
   "metadata": {
    "collapsed": false
   },
   "outputs": [
    {
     "name": "stdout",
     "output_type": "stream",
     "text": [
      "最大効率： (29.351111111111113, [1, 1, 1, 1, 1, 1, 3])\n"
     ]
    },
    {
     "data": {
      "text/plain": [
       "[(25.226666666666667, [3, 3, 3, 3, 3, 3, 3]),\n",
       " (28.845714285714287, [1, 1, 1, 1, 1, 1, 1]),\n",
       " (29.13, [1, 1, 1, 1, 1, 1, 2]),\n",
       " (29.351111111111113, [1, 1, 1, 1, 1, 1, 3]),\n",
       " (29.244, [1, 1, 1, 1, 1, 2, 3]),\n",
       " (29.156363636363636, [1, 1, 1, 1, 1, 3, 3]),\n",
       " (28.88, [1, 1, 1, 1, 2, 3, 3]),\n",
       " (28.646153846153847, [1, 1, 1, 1, 3, 3, 3]),\n",
       " (28.202857142857145, [1, 1, 1, 2, 3, 3, 3]),\n",
       " (27.818666666666665, [1, 1, 1, 3, 3, 3, 3]),\n",
       " (27.3125, [1, 1, 2, 3, 3, 3, 3]),\n",
       " (26.865882352941178, [1, 1, 3, 3, 3, 3, 3]),\n",
       " (26.453333333333333, [1, 2, 3, 3, 3, 3, 3]),\n",
       " (26.08421052631579, [1, 3, 3, 3, 3, 3, 3]),\n",
       " (25.634, [2, 3, 3, 3, 3, 3, 3])]"
      ]
     },
     "execution_count": 17,
     "metadata": {},
     "output_type": "execute_result"
    }
   ],
   "source": [
    "LPunit = 25\n",
    "\n",
    "def GetAllLP(boost):\n",
    "    allLP = 0\n",
    "    for i in range(7):\n",
    "        allLP += LPunit * boost[i]\n",
    "    return allLP    \n",
    "\n",
    "def GetAllPt(boost):    \n",
    "    pts = [427,486,493,561,646,707,778]    \n",
    "    musicSumPt = 0\n",
    "    for i in range(7):\n",
    "        musicSumPt += pts[i] * boost[i]\n",
    "    allPt = 450 + 500 + musicSumPt    \n",
    "    return allPt\n",
    "\n",
    "def GetPtEff(boost):\n",
    "    allPt = GetAllPt(boost)\n",
    "    allLP = GetAllLP(boost)\n",
    "    ptEff = 1.0 * allPt / allLP\n",
    "    return ptEff\n",
    "\n",
    "def printPtEff(boost):    \n",
    "    allPt = GetAllPt(boost)\n",
    "    allLP = GetAllLP(boost)\n",
    "    print(\"all Pt:\",allPt)\n",
    "    print(\"all LP:\",allLP)\n",
    "    ptEff = GetPtEff(boost)\n",
    "    print(\"Efficiency\",ptEff)\n",
    "\n",
    "maxBoost = 3\n",
    "boostRev = [1,1,1,1,1,1,1]\n",
    "idx = 0\n",
    "\n",
    "effAndBoost = []\n",
    "\n",
    "for temp1 in range(200):\n",
    "    if not(idx < len(boostRev)): break\n",
    "    for temp2 in range(200):\n",
    "        if not(boostRev[idx] <= maxBoost): break\n",
    "        if (idx != 0 and boostRev[idx] == 1): \n",
    "            boostRev[idx] += 1\n",
    "            continue\n",
    "        eff = GetPtEff(boost)\n",
    "        effAndBoost.append((eff, boost))        \n",
    "        boost = list(reversed(boostRev))\n",
    "        #printPtEff(boost)\n",
    "        #print(boost, \"\\n\")\n",
    "        boostRev[idx] += 1\n",
    "    boostRev[idx] = maxBoost\n",
    "    idx += 1\n",
    "\n",
    "#pt/LPの最大効率とその時のboostを返す\n",
    "print (\"最大効率：\",max(effAndBoost))\n",
    "\n",
    "effAndBoost\n",
    "\n"
   ]
  },
  {
   "cell_type": "code",
   "execution_count": null,
   "metadata": {
    "collapsed": true
   },
   "outputs": [],
   "source": []
  }
 ],
 "metadata": {
  "anaconda-cloud": {},
  "kernelspec": {
   "display_name": "Python [conda root]",
   "language": "python",
   "name": "conda-root-py"
  },
  "language_info": {
   "codemirror_mode": {
    "name": "ipython",
    "version": 3
   },
   "file_extension": ".py",
   "mimetype": "text/x-python",
   "name": "python",
   "nbconvert_exporter": "python",
   "pygments_lexer": "ipython3",
   "version": "3.5.2"
  }
 },
 "nbformat": 4,
 "nbformat_minor": 1
}

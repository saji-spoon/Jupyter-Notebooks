{
 "cells": [
  {
   "cell_type": "markdown",
   "metadata": {},
   "source": [
    "# （独自データの分類）をもとにクラス化する（作業ノート）"
   ]
  },
  {
   "cell_type": "code",
   "execution_count": null,
   "metadata": {
    "collapsed": true
   },
   "outputs": [],
   "source": [
    "import numpy as np\n",
    "import chainer\n",
    "from chainer import cuda, Function, gradient_check, report, training, utils, Variable\n",
    "from chainer import datasets, iterators, optimizers, serializers\n",
    "from chainer import Link, Chain, ChainList\n",
    "import chainer.functions as F\n",
    "import chainer.links as L\n",
    "from chainer.training import extensions\n",
    "from chainer.dataset import concat_examples\n",
    "import inspect\n",
    "from jupyterthemes import jtplot\n",
    "jtplot.style()\n",
    "from matplotlib.colors import LinearSegmentedColormap\n",
    "from matplotlib import pyplot as plt\n",
    "%matplotlib inline\n",
    "from IPython.core.interactiveshell import InteractiveShell\n",
    "InteractiveShell.ast_node_interactivity = \"all\"\n",
    "\n",
    "def generate_cmap(colors):\n",
    "    \"\"\"自分で定義したカラーマップを返す\"\"\"\n",
    "    values = range(len(colors))\n",
    "\n",
    "    vmax = np.ceil(np.max(values))\n",
    "    color_list = []\n",
    "    for v, c in zip(values, colors):\n",
    "        color_list.append( ( v/ vmax, c) )\n",
    "    return LinearSegmentedColormap.from_list('custom_cmap', color_list)\n",
    "\n",
    "train, test = datasets.get_mnist()\n",
    "train_iter = iterators.SerialIterator(train, batch_size=100, shuffle=True)\n",
    "test_iter = iterators.SerialIterator(train, batch_size=100, shuffle=False, repeat=False)\n",
    "\n",
    "\n",
    "import random\n",
    "from chainer.datasets import tuple_dataset\n",
    "class MLP(Chain):\n",
    "    def __init__(self, n_out):\n",
    "        super(MLP, self).__init__()\n",
    "        with self.init_scope():\n",
    "            self.l1 = L.Linear(None, 100)\n",
    "            self.l2 = L.Linear(None, 100)\n",
    "            self.l3 = L.Linear(None, 100)\n",
    "            self.l4 = L.Linear(None, 80)\n",
    "            self.l5 = L.Linear(None, 50)\n",
    "            self.l6 = L.Linear(None, 20)\n",
    "            self.l7 = L.Linear(None, n_out)\n",
    "            \n",
    "            \n",
    "    def __call__(self, x):\n",
    "        #層の結合結果に、活性化関数をかませる\n",
    "        h1 = F.tanh(self.l1(x))\n",
    "        h2 = F.tanh(self.l2(h1))\n",
    "        h3 = F.tanh(self.l3(h2))\n",
    "        h4 = F.tanh(self.l4(h3))\n",
    "        h5 = F.tanh(self.l5(h4))\n",
    "        h6 = F.tanh(self.l6(h5))\n",
    "        y = self.l7(h6)\n",
    "        return y"
   ]
  },
  {
   "cell_type": "markdown",
   "metadata": {},
   "source": [
    "## 2次元座標2クラス分類クラス"
   ]
  },
  {
   "cell_type": "code",
   "execution_count": 9,
   "metadata": {
    "collapsed": true
   },
   "outputs": [],
   "source": [
    "class BinaryBoundary2D:\n",
    "    def __init__(self, width, height):\n",
    "        self.width = width\n",
    "        self.height = height\n",
    "        \n",
    "    def setDataset(self, datasetStr):\n",
    "        self.rawTrainPos = []\n",
    "        self.rawTrainT = []\n",
    "        for line in datasetStr.split(\"\\n\"):\n",
    "            vals = line.split(\",\")\n",
    "            self.rawTrainPos.append([int(vals[0]),int(vals[1])])\n",
    "            self.rawTrainT.append(int(vals[2]))\n",
    "        self.rawTestPos = []\n",
    "        self.rawTestT = []\n",
    "        #TrainingDataからサンプルしてテストデータを作る\n",
    "        for i in range(20):\n",
    "            idx = random.randrange(0, len(self.rawTrainPos))\n",
    "            self.rawTestPos.append(self.rawTrainPos[idx])\n",
    "            self.rawTestT.append(self.rawTrainT[idx])\n",
    "            \n",
    "        self.trainPos, self.trainT = self.getNormalizedNpArray(self.rawTrainPos, self.rawTrainT)\n",
    "        self.testPos, self.testT = self.getNormalizedNpArray(self.rawTestPos, self.rawTestT)\n",
    "            \n",
    "    def getNormalizedNpArray(self, rawPos, rawT):\n",
    "        pos = np.array(rawPos, np.float32) / np.array([self.width, self.height], np.float32)\n",
    "        t = np.array(rawT, np.int32)\n",
    "        return pos, t\n",
    "    \n",
    "    def train(self, model, lr, maxEpoch):\n",
    "        trainSet = tuple_dataset.TupleDataset(self.trainPos, self.trainT)\n",
    "        testSet = tuple_dataset.TupleDataset(self.testPos, self.testT)\n",
    "        \n",
    "        trainIter = iterators.SerialIterator(trainSet, 1)\n",
    "        testIter = iterators.SerialIterator(testSet, 1, repeat=False, shuffle=False)\n",
    "        \n",
    "        optimizer = optimizers.SGD(lr=lr)\n",
    "        self.model=model\n",
    "        optimizer.setup(self.model)\n",
    "        while trainIter.epoch < maxEpoch:\n",
    "            #print(str(trainIter.epoch))\n",
    "            trainBatch = trainIter.next()\n",
    "            x, t = concat_examples(trainBatch)\n",
    "            y = self.model(x)\n",
    "            \n",
    "            loss = F.softmax_cross_entropy(y, t)\n",
    "            \n",
    "            self.model.cleargrads()\n",
    "            \n",
    "            loss.backward()\n",
    "            \n",
    "            optimizer.update()\n",
    "            \n",
    "    def getY(self, x):\n",
    "        return self.model(x)\n",
    "        \n",
    "    def getBoundary(self, interval=0.01):\n",
    "        xx, yy = np.meshgrid(np.arange(0,1.0,interval), np.arange(0,1.0,interval))\n",
    "        sampleMesh = np.array(np.c_[xx.ravel(), yy.ravel()], np.float32)\n",
    "        \n",
    "        y = self.getY(sampleMesh)\n",
    "        \n",
    "        predictLabel = F.argmax(y, axis=1).data\n",
    "        \n",
    "        return sampleMesh, predictLabel\n",
    "            \n",
    "        \n",
    "       "
   ]
  },
  {
   "cell_type": "code",
   "execution_count": null,
   "metadata": {
    "collapsed": true
   },
   "outputs": [],
   "source": [
    " \n",
    "bb2d = BinaryBoundary2D(640, 480)\n",
    "\n",
    "bb2d.setDataset(\"120,240,0\\n240,300,1\\n\".strip())\n",
    "\n",
    "bb2d.rawTrainPos\n",
    "bb2d.rawTrainT\n",
    "\n",
    "bb2d.trainPos\n",
    "bb2d.trainT\n",
    "\n",
    "bb2d.train(0.2, 60)\n",
    "\n",
    "bb2d.getBoundary(0.1)\n",
    "\n",
    "        "
   ]
  },
  {
   "cell_type": "code",
   "execution_count": 10,
   "metadata": {
    "collapsed": true
   },
   "outputs": [],
   "source": [
    "bb2d = BinaryBoundary2D(640,480)\n",
    "\n",
    "file = open(\"sample1.txt\", mode='r')\n",
    "txt = file.read()\n",
    "\n",
    "file.close()\n",
    "\n",
    "bb2d.setDataset(txt.strip())\n",
    "bb2d.train(MLP(2),0.005, 200)"
   ]
  },
  {
   "cell_type": "code",
   "execution_count": 11,
   "metadata": {},
   "outputs": [
    {
     "data": {
      "text/plain": [
       "<matplotlib.collections.PathCollection at 0x1d207f0f7b8>"
      ]
     },
     "execution_count": 11,
     "metadata": {},
     "output_type": "execute_result"
    },
    {
     "data": {
      "text/plain": [
       "<matplotlib.collections.PathCollection at 0x1d207edf898>"
      ]
     },
     "execution_count": 11,
     "metadata": {},
     "output_type": "execute_result"
    },
    {
     "data": {
      "image/png": "[encoded data removed]",
      "text/plain": [
       "<matplotlib.figure.Figure at 0x1d207ca51d0>"
      ]
     },
     "metadata": {},
     "output_type": "display_data"
    }
   ],
   "source": [
    "mesh, pred = bb2d.getBoundary(0.015)\n",
    "\n",
    "cm = generate_cmap(['#FFFFFF', '#000000'])\n",
    "plt.scatter(mesh[:,0], mesh[:,1], c=pred, cmap=cm)\n",
    "\n",
    "cm = generate_cmap(['#EE5050', '#9090FF'])\n",
    "plt.scatter(bb2d.trainPos[:,0], bb2d.trainPos[:,1], c=bb2d.trainT, cmap=cm)"
   ]
  },
  {
   "cell_type": "markdown",
   "metadata": {},
   "source": [
    "## データ用意"
   ]
  },
  {
   "cell_type": "code",
   "execution_count": null,
   "metadata": {
    "collapsed": true
   },
   "outputs": [],
   "source": [
    "\n",
    "file = open(\"sample1.txt\", mode='r')\n",
    "lines = file.readlines()\n",
    "\n",
    "file.close()\n",
    "\n",
    "train_pos = []\n",
    "t_label = []\n",
    "\n",
    "for line in lines:\n",
    "    vals = line.split(\",\")\n",
    "    train_pos.append([int(vals[0]),int(vals[1])])\n",
    "    t_label.append(int(vals[2]))\n",
    "\n",
    "#train_array\n",
    "#t_array\n",
    "\n",
    "#デフォルトでtrain_posは座標そのままなので正規化する\n",
    "sample_train = np.array(train_pos, np.float32) / np.array([640, 480], np.float32)\n",
    "sample_train_t = np.array(t_label, np.int32)\n",
    "\n",
    "import random\n",
    "#暫定的に何個かサンプリングしてテスト用データとする\n",
    "test_pos = []\n",
    "test_t_label = []\n",
    "for i in range(20) :\n",
    "    idx = random.randrange(0, sample_train.shape[0])\n",
    "    test_pos.append(train_pos[idx])\n",
    "    test_t_label.append(t_label[idx])\n",
    "\n",
    "#正規化, ndarray化\n",
    "sample_test = np.array(test_pos, np.float32) / np.array([640, 480], np.float32)\n",
    "sample_test_t = np.array(test_t_label, np.int32)\n",
    "\n",
    "#学習用データの表示\n",
    "cm = generate_cmap(['#EE5050', '#9090FF'])\n",
    "plt.scatter(sample_train[:,0], sample_train[:,1], c=sample_train_t, cmap=cm)\n",
    "\n",
    "#コメントアウトを外してテストデータの表示\n",
    "cm_test = generate_cmap(['#50EE50', '#EE50EE'])\n",
    "#plt.scatter(sample_test[:,0], sample_test[:,1], c=sample_test_t, cmap=cm_test)\n",
    "\n",
    "#格子点サンプルの用意\n",
    "xx, yy = np.meshgrid(np.arange(0,1.0,0.01), np.arange(0,1.0,0.01))\n",
    "sample_mesh = np.array(np.c_[xx.ravel(), yy.ravel()], np.float32)\n",
    "\n",
    "from chainer.datasets import tuple_dataset\n",
    "\n",
    "#最後に、iterで取り出しやすいようTupleDatasetの形にする\n",
    "train = tuple_dataset.TupleDataset(sample_train, sample_train_t)\n",
    "test = tuple_dataset.TupleDataset(sample_test, sample_test_t)"
   ]
  },
  {
   "cell_type": "markdown",
   "metadata": {},
   "source": [
    "### モデルの定義"
   ]
  },
  {
   "cell_type": "code",
   "execution_count": null,
   "metadata": {
    "collapsed": true
   },
   "outputs": [],
   "source": [
    "class MLP(Chain):\n",
    "    def __init__(self, n_out):\n",
    "        super(MLP, self).__init__()\n",
    "        with self.init_scope():\n",
    "            self.l1 = L.Linear(None, 100)\n",
    "            self.l2 = L.Linear(None, 100)\n",
    "            self.l3 = L.Linear(None, 100)\n",
    "            self.l4 = L.Linear(None, 80)\n",
    "            self.l5 = L.Linear(None, 50)\n",
    "            self.l6 = L.Linear(None, 20)\n",
    "            self.l7 = L.Linear(None, n_out)\n",
    "            \n",
    "            \n",
    "    def __call__(self, x):\n",
    "        #層の結合結果に、活性化関数をかませる\n",
    "        h1 = F.tanh(self.l1(x))\n",
    "        h2 = F.tanh(self.l2(h1))\n",
    "        h3 = F.tanh(self.l3(h2))\n",
    "        h4 = F.tanh(self.l4(h3))\n",
    "        h5 = F.tanh(self.l5(h4))\n",
    "        h6 = F.tanh(self.l6(h5))\n",
    "        y = self.l7(h6)\n",
    "        return y\n",
    "    \n",
    "class Classifier(Chain):\n",
    "    def __init__(self, predictor):\n",
    "        super(Classifier, self).__init__()\n",
    "        with self.init_scope():\n",
    "            self.predictor = predictor\n",
    "            \n",
    "    def __call__(self, x, t):\n",
    "        y = self.predictor(x)\n",
    "        loss = F.softmax_cross_entropy(y, t)\n",
    "        accuracy = F.accuracy(y, t)\n",
    "        report({'loss':loss, 'accuracy':accuracy})        \n",
    "        return loss"
   ]
  },
  {
   "cell_type": "markdown",
   "metadata": {},
   "source": [
    "## ビギナー向けチュートリアルに沿った実装\n",
    "\n",
    "https://qiita.com/mitmul/items/eccf4e0a84cb784ba84a\n",
    "\n",
    "2 Iteratorぐらいから\n",
    "\n",
    "サンプルに対してiteratorを定義する"
   ]
  },
  {
   "cell_type": "code",
   "execution_count": null,
   "metadata": {
    "collapsed": true
   },
   "outputs": [],
   "source": [
    "len(train)\n",
    "\n",
    "train_batchsize = 1\n",
    "\n",
    "train_iter = iterators.SerialIterator(train, train_batchsize)\n",
    "test_iter = iterators.SerialIterator(test, 20, repeat=False, shuffle=False)"
   ]
  },
  {
   "cell_type": "markdown",
   "metadata": {},
   "source": [
    "optimizerを定義し、モデルをセットする"
   ]
  },
  {
   "cell_type": "code",
   "execution_count": null,
   "metadata": {
    "collapsed": true
   },
   "outputs": [],
   "source": [
    "#ここで学習率の設定\n",
    "optimizer = optimizers.SGD(lr = 0.005)\n",
    "#上で定義したモデルのインスタンス作成 最終出力2\n",
    "model = MLP(2)\n",
    "optimizer.setup(model)\n"
   ]
  },
  {
   "cell_type": "markdown",
   "metadata": {},
   "source": [
    "### 学習ループ\n",
    "\n",
    "1. 入力をmodelで計算して出力yを得る\n",
    "2. yからloss値を計算する　今回はsoftmax_cross_entropyを使う\n",
    "3. loss値に対する各パラメータの勾配を計算する\n",
    "4. optimizerでupdate"
   ]
  },
  {
   "cell_type": "code",
   "execution_count": null,
   "metadata": {
    "collapsed": true
   },
   "outputs": [],
   "source": [
    "\n",
    "max_epoch = 200\n",
    "\n",
    "while train_iter.epoch < max_epoch:\n",
    "    #バッチを1つ取り出す\n",
    "    train_batch = train_iter.next()\n",
    "    #学習用データとラベルを一緒にとってしまっているのでバラす\n",
    "    x, t = concat_examples(train_batch)\n",
    "    #出力を得る\n",
    "    y = model(x)\n",
    "    #lossを計算\n",
    "    loss = F.softmax_cross_entropy(y, t)    \n",
    "    #新しく勾配計算を始めるごとに初期化\n",
    "    model.cleargrads()\n",
    "    \n",
    "    #lossに対して各パラメータの勾配を計算\n",
    "    loss.backward()\n",
    "    #勾配計算済みなので引数なしでupdateを呼び出す\n",
    "    optimizer.update() \n",
    "    \n",
    "    #テストデータに対してモデルを適用し,accuracyとlossを算出\n",
    "    #モデルの性能が上がっていることを確かめる\n",
    "    test_losses = []\n",
    "    test_accuracies = []\n",
    "    if train_iter.is_new_epoch:\n",
    "        while True:\n",
    "            test_batch = test_iter.next()\n",
    "            x, t = concat_examples(test_batch)\n",
    "            y = model(x)\n",
    "            loss = F.softmax_cross_entropy(y, t)    \n",
    "            accuracy = F.accuracy(y, t)\n",
    "            print(\"Now at \", train_iter.epoch)\n",
    "            print(\"loss:\", loss)\n",
    "            print(\"accuracy:\", accuracy)\n",
    "            \n",
    "            if test_iter.is_new_epoch:\n",
    "                test_iter.reset()\n",
    "                break\n"
   ]
  },
  {
   "cell_type": "markdown",
   "metadata": {},
   "source": [
    "### 作成モデルを格子点に適用して可視化\n",
    "\n",
    "作成したデータ点-クラスラベルを学習したモデルを用いて\n",
    "\n",
    "各格子点をどのようにクラス分けするか見る\n",
    "\n",
    "これによって分類境界を見ることができる"
   ]
  },
  {
   "cell_type": "code",
   "execution_count": null,
   "metadata": {
    "collapsed": true
   },
   "outputs": [],
   "source": [
    "y = model(sample_mesh)\n",
    "\n",
    "predict_label = F.argmax(y, axis=1).data\n",
    "type(predict_label)\n",
    "\n",
    "#テスト用データの表示\n",
    "cm = generate_cmap(['#000000', '#FFFFFF'])\n",
    "plt.scatter(sample_mesh[:,0], sample_mesh[:,1], c=predict_label, cmap=cm)\n",
    "\n",
    "cm = generate_cmap(['#EE5050', '#9090FF'])\n",
    "plt.scatter(sample_train[:,0], sample_train[:,1], c=sample_train_t, cmap=cm)\n",
    "\n",
    "#テスト用データの表示\n",
    "#plt.scatter(sample_test[:,0], sample_test[:,1], c=sample_test_t, cmap=cm_test)\n"
   ]
  },
  {
   "cell_type": "markdown",
   "metadata": {},
   "source": [
    "黒 = 学習用データクラス0\n",
    "\n",
    "白 = 学習用データクラス1\n",
    "\n",
    "（表示している場合）緑と桃はテスト用データ…accuracyとlossの途中経過レポートに使われている\n",
    "\n",
    "赤 = 学習したモデルが判定したクラス0\n",
    "\n",
    "青 = 学習したモデルが判定したクラス1"
   ]
  },
  {
   "cell_type": "markdown",
   "metadata": {},
   "source": [
    "### 知見など\n",
    "\n",
    "今回の用にサンプル数が少ないと、バッチサイズを大きくしすぎるとコーナーケースのlossが潰れる？（図右端のクラス1（青）など）\n",
    "\n",
    "やはり学習率は重要っぽい\n",
    "\n",
    "他中間ノード数などで調節可能\n",
    "\n",
    "学習率=0.01～0.005で、学習数（＝データ数×エポック数）が多くないと全然分類できない模様？\n",
    "\n",
    "80サンプルで200epoch\n",
    "\n",
    "200サンプルで40epochぐらいで見た目よい結果\n",
    "\n",
    "\n",
    "活性化関数はtanhがよいのかも？\n",
    "\n",
    "https://qiita.com/miyamotok0105/items/3435930cc04650bce54d"
   ]
  }
 ],
 "metadata": {
  "anaconda-cloud": {},
  "kernelspec": {
   "display_name": "Python 3",
   "language": "python",
   "name": "python3"
  },
  "language_info": {
   "codemirror_mode": {
    "name": "ipython",
    "version": 3
   },
   "file_extension": ".py",
   "mimetype": "text/x-python",
   "name": "python",
   "nbconvert_exporter": "python",
   "pygments_lexer": "ipython3",
   "version": "3.6.1"
  }
 },
 "nbformat": 4,
 "nbformat_minor": 1
}
